{
  "cells": [
    {
      "cell_type": "code",
      "execution_count": null,
      "metadata": {
        "id": "GBVJNwTCPL-n"
      },
      "outputs": [],
      "source": [
        "import pandas as pd\n",
        "import numpy as np\n",
        "import seaborn as sns\n",
        "import tensorflow as tf\n",
        "import matplotlib.pyplot as plt"
      ]
    },
    {
      "cell_type": "code",
      "source": [
        "from google.colab import drive\n",
        "drive.mount('/content/drive')"
      ],
      "metadata": {
        "colab": {
          "base_uri": "https://localhost:8080/"
        },
        "id": "AlgoLSM7Y9Up",
        "outputId": "87c069f0-0c55-4dfc-beb4-02c037340238"
      },
      "execution_count": null,
      "outputs": [
        {
          "output_type": "stream",
          "name": "stdout",
          "text": [
            "Mounted at /content/drive\n"
          ]
        }
      ]
    },
    {
      "cell_type": "code",
      "execution_count": null,
      "metadata": {
        "id": "Ty0FEnJWYvX0"
      },
      "outputs": [],
      "source": [
        "import pandas as pd\n",
        "import random\n",
        "\n",
        "# Load the dataset into a Pandas DataFrame\n",
        "df = pd.read_csv(\"/content/drive/MyDrive/UTS SISCER.csv\")\n",
        "\n",
        "# Randomly sample 50,000 rows from the DataFrame\n",
        "sampled_df = df.sample(n=100000, random_state=random.seed(42))\n",
        "\n",
        "# Save the sampled dataset to a new CSV file\n",
        "sampled_df.to_csv(\"/content/drive/MyDrive/diabetes_dataset.csv\", index=False)"
      ]
    },
    {
      "cell_type": "code",
      "execution_count": null,
      "metadata": {
        "id": "jJtJWr84Za4y"
      },
      "outputs": [],
      "source": [
        "data=pd.read_csv(\"/content/drive/MyDrive/diabetes_dataset.csv\")"
      ]
    },
    {
      "cell_type": "code",
      "execution_count": null,
      "metadata": {
        "colab": {
          "base_uri": "https://localhost:8080/"
        },
        "id": "4RlemFcSPoXz",
        "outputId": "285a66bc-eba3-4b49-b70f-64a9ff11c64f"
      },
      "outputs": [
        {
          "output_type": "execute_result",
          "data": {
            "text/plain": [
              "(100000, 18)"
            ]
          },
          "metadata": {},
          "execution_count": 7
        }
      ],
      "source": [
        "data.shape"
      ]
    },
    {
      "cell_type": "code",
      "execution_count": null,
      "metadata": {
        "colab": {
          "base_uri": "https://localhost:8080/"
        },
        "id": "hJYm8XKMUEv7",
        "outputId": "201d610f-2aae-489d-9139-0e74e27d8914"
      },
      "outputs": [
        {
          "output_type": "execute_result",
          "data": {
            "text/plain": [
              "Index(['Diabetes_binary', 'HighBP', 'HighChol', 'CholCheck', 'BMI', 'Smoker',\n",
              "       'Stroke', 'HeartDiseaseorAttack', 'PhysActivity', 'Fruits', 'Veggies',\n",
              "       'HvyAlcoholConsump', 'MentHlth', 'PhysHlth', 'Sex', 'Age', 'Education',\n",
              "       'Income'],\n",
              "      dtype='object')"
            ]
          },
          "metadata": {},
          "execution_count": 8
        }
      ],
      "source": [
        "data.columns"
      ]
    },
    {
      "cell_type": "code",
      "execution_count": null,
      "metadata": {
        "colab": {
          "base_uri": "https://localhost:8080/"
        },
        "id": "nK15Go04Ty3M",
        "outputId": "bc794938-4642-4fe6-e1ce-ac8a2304119a"
      },
      "outputs": [
        {
          "output_type": "execute_result",
          "data": {
            "text/plain": [
              "Diabetes_binary         0\n",
              "HighBP                  0\n",
              "HighChol                0\n",
              "CholCheck               0\n",
              "BMI                     0\n",
              "Smoker                  0\n",
              "Stroke                  0\n",
              "HeartDiseaseorAttack    0\n",
              "PhysActivity            0\n",
              "Fruits                  0\n",
              "Veggies                 0\n",
              "HvyAlcoholConsump       0\n",
              "MentHlth                0\n",
              "PhysHlth                0\n",
              "Sex                     0\n",
              "Age                     0\n",
              "Education               0\n",
              "Income                  0\n",
              "dtype: int64"
            ]
          },
          "metadata": {},
          "execution_count": 9
        }
      ],
      "source": [
        "\n",
        "data.isnull().sum()"
      ]
    },
    {
      "cell_type": "code",
      "execution_count": null,
      "metadata": {
        "colab": {
          "base_uri": "https://localhost:8080/"
        },
        "id": "1Nsa1rTqUCpu",
        "outputId": "00f988a3-81a9-4166-81d3-1e02fc4e6e75"
      },
      "outputs": [
        {
          "output_type": "stream",
          "name": "stderr",
          "text": [
            "<ipython-input-10-47560f0a7a34>:2: FutureWarning: In a future version of pandas all arguments of DataFrame.drop except for the argument 'labels' will be keyword-only.\n",
            "  x = data.drop('Diabetes_binary', 1)\n"
          ]
        }
      ],
      "source": [
        "# Def X and Y\n",
        "x = data.drop('Diabetes_binary', 1)\n",
        "y = data['Diabetes_binary']"
      ]
    },
    {
      "cell_type": "code",
      "source": [
        "data.head()"
      ],
      "metadata": {
        "colab": {
          "base_uri": "https://localhost:8080/",
          "height": 226
        },
        "id": "fyiVEL3yGqko",
        "outputId": "a01e8786-e01b-4e78-8cf1-2d661294b5cd"
      },
      "execution_count": null,
      "outputs": [
        {
          "output_type": "execute_result",
          "data": {
            "text/plain": [
              "   Diabetes_binary  HighBP  HighChol  CholCheck  BMI  Smoker  Stroke  \\\n",
              "0                0       0         0          1   26       0       0   \n",
              "1                0       1         1          1   27       0       0   \n",
              "2                1       1         1          1   27       0       0   \n",
              "3                0       1         1          1   30       1       1   \n",
              "4                1       0         0          1   25       1       0   \n",
              "\n",
              "   HeartDiseaseorAttack  PhysActivity  Fruits  Veggies  HvyAlcoholConsump  \\\n",
              "0                     0             0       0        1                  0   \n",
              "1                     1             1       1        1                  0   \n",
              "2                     1             1       1        1                  0   \n",
              "3                     1             1       0        1                  0   \n",
              "4                     0             1       0        0                  0   \n",
              "\n",
              "   MentHlth  PhysHlth  Sex  Age  Education  Income  \n",
              "0         9         0    0    5          6       6  \n",
              "1        15         8    0    7          3       1  \n",
              "2         5        30    0    9          6       7  \n",
              "3         0         3    0   10          5       3  \n",
              "4         0         0    0    9          5       5  "
            ],
            "text/html": [
              "\n",
              "  <div id=\"df-116474db-a136-44b4-b70d-d13ac065f3f2\" class=\"colab-df-container\">\n",
              "    <div>\n",
              "<style scoped>\n",
              "    .dataframe tbody tr th:only-of-type {\n",
              "        vertical-align: middle;\n",
              "    }\n",
              "\n",
              "    .dataframe tbody tr th {\n",
              "        vertical-align: top;\n",
              "    }\n",
              "\n",
              "    .dataframe thead th {\n",
              "        text-align: right;\n",
              "    }\n",
              "</style>\n",
              "<table border=\"1\" class=\"dataframe\">\n",
              "  <thead>\n",
              "    <tr style=\"text-align: right;\">\n",
              "      <th></th>\n",
              "      <th>Diabetes_binary</th>\n",
              "      <th>HighBP</th>\n",
              "      <th>HighChol</th>\n",
              "      <th>CholCheck</th>\n",
              "      <th>BMI</th>\n",
              "      <th>Smoker</th>\n",
              "      <th>Stroke</th>\n",
              "      <th>HeartDiseaseorAttack</th>\n",
              "      <th>PhysActivity</th>\n",
              "      <th>Fruits</th>\n",
              "      <th>Veggies</th>\n",
              "      <th>HvyAlcoholConsump</th>\n",
              "      <th>MentHlth</th>\n",
              "      <th>PhysHlth</th>\n",
              "      <th>Sex</th>\n",
              "      <th>Age</th>\n",
              "      <th>Education</th>\n",
              "      <th>Income</th>\n",
              "    </tr>\n",
              "  </thead>\n",
              "  <tbody>\n",
              "    <tr>\n",
              "      <th>0</th>\n",
              "      <td>0</td>\n",
              "      <td>0</td>\n",
              "      <td>0</td>\n",
              "      <td>1</td>\n",
              "      <td>26</td>\n",
              "      <td>0</td>\n",
              "      <td>0</td>\n",
              "      <td>0</td>\n",
              "      <td>0</td>\n",
              "      <td>0</td>\n",
              "      <td>1</td>\n",
              "      <td>0</td>\n",
              "      <td>9</td>\n",
              "      <td>0</td>\n",
              "      <td>0</td>\n",
              "      <td>5</td>\n",
              "      <td>6</td>\n",
              "      <td>6</td>\n",
              "    </tr>\n",
              "    <tr>\n",
              "      <th>1</th>\n",
              "      <td>0</td>\n",
              "      <td>1</td>\n",
              "      <td>1</td>\n",
              "      <td>1</td>\n",
              "      <td>27</td>\n",
              "      <td>0</td>\n",
              "      <td>0</td>\n",
              "      <td>1</td>\n",
              "      <td>1</td>\n",
              "      <td>1</td>\n",
              "      <td>1</td>\n",
              "      <td>0</td>\n",
              "      <td>15</td>\n",
              "      <td>8</td>\n",
              "      <td>0</td>\n",
              "      <td>7</td>\n",
              "      <td>3</td>\n",
              "      <td>1</td>\n",
              "    </tr>\n",
              "    <tr>\n",
              "      <th>2</th>\n",
              "      <td>1</td>\n",
              "      <td>1</td>\n",
              "      <td>1</td>\n",
              "      <td>1</td>\n",
              "      <td>27</td>\n",
              "      <td>0</td>\n",
              "      <td>0</td>\n",
              "      <td>1</td>\n",
              "      <td>1</td>\n",
              "      <td>1</td>\n",
              "      <td>1</td>\n",
              "      <td>0</td>\n",
              "      <td>5</td>\n",
              "      <td>30</td>\n",
              "      <td>0</td>\n",
              "      <td>9</td>\n",
              "      <td>6</td>\n",
              "      <td>7</td>\n",
              "    </tr>\n",
              "    <tr>\n",
              "      <th>3</th>\n",
              "      <td>0</td>\n",
              "      <td>1</td>\n",
              "      <td>1</td>\n",
              "      <td>1</td>\n",
              "      <td>30</td>\n",
              "      <td>1</td>\n",
              "      <td>1</td>\n",
              "      <td>1</td>\n",
              "      <td>1</td>\n",
              "      <td>0</td>\n",
              "      <td>1</td>\n",
              "      <td>0</td>\n",
              "      <td>0</td>\n",
              "      <td>3</td>\n",
              "      <td>0</td>\n",
              "      <td>10</td>\n",
              "      <td>5</td>\n",
              "      <td>3</td>\n",
              "    </tr>\n",
              "    <tr>\n",
              "      <th>4</th>\n",
              "      <td>1</td>\n",
              "      <td>0</td>\n",
              "      <td>0</td>\n",
              "      <td>1</td>\n",
              "      <td>25</td>\n",
              "      <td>1</td>\n",
              "      <td>0</td>\n",
              "      <td>0</td>\n",
              "      <td>1</td>\n",
              "      <td>0</td>\n",
              "      <td>0</td>\n",
              "      <td>0</td>\n",
              "      <td>0</td>\n",
              "      <td>0</td>\n",
              "      <td>0</td>\n",
              "      <td>9</td>\n",
              "      <td>5</td>\n",
              "      <td>5</td>\n",
              "    </tr>\n",
              "  </tbody>\n",
              "</table>\n",
              "</div>\n",
              "    <div class=\"colab-df-buttons\">\n",
              "\n",
              "  <div class=\"colab-df-container\">\n",
              "    <button class=\"colab-df-convert\" onclick=\"convertToInteractive('df-116474db-a136-44b4-b70d-d13ac065f3f2')\"\n",
              "            title=\"Convert this dataframe to an interactive table.\"\n",
              "            style=\"display:none;\">\n",
              "\n",
              "  <svg xmlns=\"http://www.w3.org/2000/svg\" height=\"24px\" viewBox=\"0 -960 960 960\">\n",
              "    <path d=\"M120-120v-720h720v720H120Zm60-500h600v-160H180v160Zm220 220h160v-160H400v160Zm0 220h160v-160H400v160ZM180-400h160v-160H180v160Zm440 0h160v-160H620v160ZM180-180h160v-160H180v160Zm440 0h160v-160H620v160Z\"/>\n",
              "  </svg>\n",
              "    </button>\n",
              "\n",
              "  <style>\n",
              "    .colab-df-container {\n",
              "      display:flex;\n",
              "      gap: 12px;\n",
              "    }\n",
              "\n",
              "    .colab-df-convert {\n",
              "      background-color: #E8F0FE;\n",
              "      border: none;\n",
              "      border-radius: 50%;\n",
              "      cursor: pointer;\n",
              "      display: none;\n",
              "      fill: #1967D2;\n",
              "      height: 32px;\n",
              "      padding: 0 0 0 0;\n",
              "      width: 32px;\n",
              "    }\n",
              "\n",
              "    .colab-df-convert:hover {\n",
              "      background-color: #E2EBFA;\n",
              "      box-shadow: 0px 1px 2px rgba(60, 64, 67, 0.3), 0px 1px 3px 1px rgba(60, 64, 67, 0.15);\n",
              "      fill: #174EA6;\n",
              "    }\n",
              "\n",
              "    .colab-df-buttons div {\n",
              "      margin-bottom: 4px;\n",
              "    }\n",
              "\n",
              "    [theme=dark] .colab-df-convert {\n",
              "      background-color: #3B4455;\n",
              "      fill: #D2E3FC;\n",
              "    }\n",
              "\n",
              "    [theme=dark] .colab-df-convert:hover {\n",
              "      background-color: #434B5C;\n",
              "      box-shadow: 0px 1px 3px 1px rgba(0, 0, 0, 0.15);\n",
              "      filter: drop-shadow(0px 1px 2px rgba(0, 0, 0, 0.3));\n",
              "      fill: #FFFFFF;\n",
              "    }\n",
              "  </style>\n",
              "\n",
              "    <script>\n",
              "      const buttonEl =\n",
              "        document.querySelector('#df-116474db-a136-44b4-b70d-d13ac065f3f2 button.colab-df-convert');\n",
              "      buttonEl.style.display =\n",
              "        google.colab.kernel.accessAllowed ? 'block' : 'none';\n",
              "\n",
              "      async function convertToInteractive(key) {\n",
              "        const element = document.querySelector('#df-116474db-a136-44b4-b70d-d13ac065f3f2');\n",
              "        const dataTable =\n",
              "          await google.colab.kernel.invokeFunction('convertToInteractive',\n",
              "                                                    [key], {});\n",
              "        if (!dataTable) return;\n",
              "\n",
              "        const docLinkHtml = 'Like what you see? Visit the ' +\n",
              "          '<a target=\"_blank\" href=https://colab.research.google.com/notebooks/data_table.ipynb>data table notebook</a>'\n",
              "          + ' to learn more about interactive tables.';\n",
              "        element.innerHTML = '';\n",
              "        dataTable['output_type'] = 'display_data';\n",
              "        await google.colab.output.renderOutput(dataTable, element);\n",
              "        const docLink = document.createElement('div');\n",
              "        docLink.innerHTML = docLinkHtml;\n",
              "        element.appendChild(docLink);\n",
              "      }\n",
              "    </script>\n",
              "  </div>\n",
              "\n",
              "\n",
              "<div id=\"df-a39dc0d4-4a80-40bf-8048-8f127c274664\">\n",
              "  <button class=\"colab-df-quickchart\" onclick=\"quickchart('df-a39dc0d4-4a80-40bf-8048-8f127c274664')\"\n",
              "            title=\"Suggest charts.\"\n",
              "            style=\"display:none;\">\n",
              "\n",
              "<svg xmlns=\"http://www.w3.org/2000/svg\" height=\"24px\"viewBox=\"0 0 24 24\"\n",
              "     width=\"24px\">\n",
              "    <g>\n",
              "        <path d=\"M19 3H5c-1.1 0-2 .9-2 2v14c0 1.1.9 2 2 2h14c1.1 0 2-.9 2-2V5c0-1.1-.9-2-2-2zM9 17H7v-7h2v7zm4 0h-2V7h2v10zm4 0h-2v-4h2v4z\"/>\n",
              "    </g>\n",
              "</svg>\n",
              "  </button>\n",
              "\n",
              "<style>\n",
              "  .colab-df-quickchart {\n",
              "      --bg-color: #E8F0FE;\n",
              "      --fill-color: #1967D2;\n",
              "      --hover-bg-color: #E2EBFA;\n",
              "      --hover-fill-color: #174EA6;\n",
              "      --disabled-fill-color: #AAA;\n",
              "      --disabled-bg-color: #DDD;\n",
              "  }\n",
              "\n",
              "  [theme=dark] .colab-df-quickchart {\n",
              "      --bg-color: #3B4455;\n",
              "      --fill-color: #D2E3FC;\n",
              "      --hover-bg-color: #434B5C;\n",
              "      --hover-fill-color: #FFFFFF;\n",
              "      --disabled-bg-color: #3B4455;\n",
              "      --disabled-fill-color: #666;\n",
              "  }\n",
              "\n",
              "  .colab-df-quickchart {\n",
              "    background-color: var(--bg-color);\n",
              "    border: none;\n",
              "    border-radius: 50%;\n",
              "    cursor: pointer;\n",
              "    display: none;\n",
              "    fill: var(--fill-color);\n",
              "    height: 32px;\n",
              "    padding: 0;\n",
              "    width: 32px;\n",
              "  }\n",
              "\n",
              "  .colab-df-quickchart:hover {\n",
              "    background-color: var(--hover-bg-color);\n",
              "    box-shadow: 0 1px 2px rgba(60, 64, 67, 0.3), 0 1px 3px 1px rgba(60, 64, 67, 0.15);\n",
              "    fill: var(--button-hover-fill-color);\n",
              "  }\n",
              "\n",
              "  .colab-df-quickchart-complete:disabled,\n",
              "  .colab-df-quickchart-complete:disabled:hover {\n",
              "    background-color: var(--disabled-bg-color);\n",
              "    fill: var(--disabled-fill-color);\n",
              "    box-shadow: none;\n",
              "  }\n",
              "\n",
              "  .colab-df-spinner {\n",
              "    border: 2px solid var(--fill-color);\n",
              "    border-color: transparent;\n",
              "    border-bottom-color: var(--fill-color);\n",
              "    animation:\n",
              "      spin 1s steps(1) infinite;\n",
              "  }\n",
              "\n",
              "  @keyframes spin {\n",
              "    0% {\n",
              "      border-color: transparent;\n",
              "      border-bottom-color: var(--fill-color);\n",
              "      border-left-color: var(--fill-color);\n",
              "    }\n",
              "    20% {\n",
              "      border-color: transparent;\n",
              "      border-left-color: var(--fill-color);\n",
              "      border-top-color: var(--fill-color);\n",
              "    }\n",
              "    30% {\n",
              "      border-color: transparent;\n",
              "      border-left-color: var(--fill-color);\n",
              "      border-top-color: var(--fill-color);\n",
              "      border-right-color: var(--fill-color);\n",
              "    }\n",
              "    40% {\n",
              "      border-color: transparent;\n",
              "      border-right-color: var(--fill-color);\n",
              "      border-top-color: var(--fill-color);\n",
              "    }\n",
              "    60% {\n",
              "      border-color: transparent;\n",
              "      border-right-color: var(--fill-color);\n",
              "    }\n",
              "    80% {\n",
              "      border-color: transparent;\n",
              "      border-right-color: var(--fill-color);\n",
              "      border-bottom-color: var(--fill-color);\n",
              "    }\n",
              "    90% {\n",
              "      border-color: transparent;\n",
              "      border-bottom-color: var(--fill-color);\n",
              "    }\n",
              "  }\n",
              "</style>\n",
              "\n",
              "  <script>\n",
              "    async function quickchart(key) {\n",
              "      const quickchartButtonEl =\n",
              "        document.querySelector('#' + key + ' button');\n",
              "      quickchartButtonEl.disabled = true;  // To prevent multiple clicks.\n",
              "      quickchartButtonEl.classList.add('colab-df-spinner');\n",
              "      try {\n",
              "        const charts = await google.colab.kernel.invokeFunction(\n",
              "            'suggestCharts', [key], {});\n",
              "      } catch (error) {\n",
              "        console.error('Error during call to suggestCharts:', error);\n",
              "      }\n",
              "      quickchartButtonEl.classList.remove('colab-df-spinner');\n",
              "      quickchartButtonEl.classList.add('colab-df-quickchart-complete');\n",
              "    }\n",
              "    (() => {\n",
              "      let quickchartButtonEl =\n",
              "        document.querySelector('#df-a39dc0d4-4a80-40bf-8048-8f127c274664 button');\n",
              "      quickchartButtonEl.style.display =\n",
              "        google.colab.kernel.accessAllowed ? 'block' : 'none';\n",
              "    })();\n",
              "  </script>\n",
              "</div>\n",
              "    </div>\n",
              "  </div>\n"
            ]
          },
          "metadata": {},
          "execution_count": 11
        }
      ]
    },
    {
      "cell_type": "code",
      "execution_count": null,
      "metadata": {
        "id": "seVSKcirLFUI"
      },
      "outputs": [],
      "source": [
        "\n",
        "from sklearn.model_selection import train_test_split\n",
        "X_train, X_test, y_train, y_test = train_test_split(x, y, test_size= 0.2, random_state= 0)"
      ]
    },
    {
      "cell_type": "code",
      "source": [
        "import pandas as pd\n",
        "import numpy as np\n",
        "from keras.models import Sequential\n",
        "from keras.layers import Dense, LSTM, Dropout\n",
        "from sklearn.model_selection import train_test_split\n",
        "from sklearn.preprocessing import MinMaxScaler\n",
        "from sklearn.metrics import confusion_matrix, roc_auc_score, mean_absolute_error, mean_squared_error\n",
        "import matplotlib.pyplot as plt\n",
        "\n",
        "# Normalize the input features\n",
        "scaler = MinMaxScaler(feature_range=(0, 1))\n",
        "X_scaled = scaler.fit_transform(x)\n",
        "\n",
        "# Split the data into training and testing sets\n",
        "X_train, X_test, y_train, y_test = train_test_split(X_scaled, y, test_size=0.2, random_state=0)\n",
        "\n",
        "# Reshape the input data for LSTM\n",
        "X_train = X_train.reshape((X_train.shape[0], 1, X_train.shape[1]))\n",
        "X_test = X_test.reshape((X_test.shape[0], 1, X_test.shape[1]))\n",
        "\n",
        "# Define the LSTM network\n",
        "model = Sequential()\n",
        "model.add(LSTM(units=256, return_sequences=True, input_shape=(X_train.shape[1], X_train.shape[2])))\n",
        "model.add(Dropout(0.3))\n",
        "model.add(LSTM(units=128, return_sequences=True))\n",
        "model.add(Dropout(0.3))\n",
        "model.add(Dense(64, activation='relu'))\n",
        "model.add(Dropout(0.2))\n",
        "model.add(Dense(1, activation='sigmoid'))\n",
        "\n",
        "model.compile(loss='binary_crossentropy', optimizer='adam', metrics=['accuracy'])\n",
        "\n",
        "# Lists to store loss and accuracy values during training\n",
        "losses = []\n",
        "accuracies = []\n",
        "\n",
        "# Train the LSTM model and store the training metrics\n",
        "epochs= 100\n",
        "batch_size = 32\n",
        "for epoch in range(epochs):\n",
        "    history = model.fit(X_train, y_train, epochs=1, batch_size=batch_size, verbose=2)\n",
        "    loss = history.history['loss'][0]\n",
        "    accuracy = history.history['accuracy'][0]\n",
        "    losses.append(loss)\n",
        "    accuracies.append(accuracy)\n",
        "    print(f\"epoch[{epoch+1}|{epochs}], Loss:{loss},accuracy:{accuracy}\")\n",
        "\n",
        "\n",
        "# Plot the loss vs. epochs graph\n",
        "plt.plot(range(1, epochs + 1), losses)\n",
        "plt.xlabel('Epoch')\n",
        "plt.ylabel('Loss')\n",
        "plt.title('Loss vs. Epoch')\n",
        "plt.grid(True)\n",
        "plt.show()\n",
        "\n",
        "# Plot the accuracy vs. epochs graph\n",
        "plt.plot(range(1, epochs + 1), accuracies)\n",
        "plt.xlabel('Epoch')\n",
        "plt.ylabel('Accuracy')\n",
        "plt.title('Accuracy vs. Epoch')\n",
        "plt.grid(True)\n",
        "plt.show()\n",
        "\n",
        "# evaluate the model on the testing data\n",
        "test_loss, test_acc = model.evaluate(X_test, y_test)\n",
        "\n",
        "# Predicting on the test set\n",
        "y_pred_prob = model.predict(X_test)\n",
        "threshold = 0.5  # choose your threshold here\n",
        "y_pred = np.where(y_pred_prob > threshold, 1, 0)\n",
        "y_pred = np.squeeze(y_pred)\n",
        "confusion_mat = confusion_matrix(y_test, y_pred)\n",
        "plt.figure(figsize=(6, 5))\n",
        "sns.heatmap(confusion_mat, annot=True, fmt='d', cmap='Blues')\n",
        "plt.xlabel('Predicted Labels')\n",
        "plt.ylabel('True Labels')\n",
        "plt.title('Confusion Matrix')\n",
        "plt.show()\n",
        "\n",
        "# calculate f1-score, sensitivity, and specificity\n",
        "tn, fp, fn, tp = confusion_matrix(y_test, y_pred).ravel()\n",
        "precision = tp / (tp + fp)\n",
        "recall = tp / (tp + fn)\n",
        "f1 = 2 * (precision * recall) / (precision + recall)\n",
        "sensitivity = recall\n",
        "specificity = tn / (tn + fp)\n",
        "\n",
        "# Print the evaluation results\n",
        "print(\"Test Loss:\", test_loss)\n",
        "print(\"Test Accuracy:\", test_acc)\n",
        "print(\"F1-score:\", f1)\n",
        "print(\"Sensitivity:\", sensitivity)\n",
        "print(\"Specificity:\", specificity)\n",
        "print(\"Precision:\", precision)\n",
        "\n"
      ],
      "metadata": {
        "colab": {
          "base_uri": "https://localhost:8080/",
          "height": 1000
        },
        "id": "IIjhdOOFhFbC",
        "outputId": "774f8ed7-6448-4ae4-d814-a9e5802e7059"
      },
      "execution_count": null,
      "outputs": [
        {
          "output_type": "stream",
          "name": "stdout",
          "text": [
            "2500/2500 - 25s - loss: 0.3416 - accuracy: 0.8601 - 25s/epoch - 10ms/step\n",
            "epoch[1|100], Loss:0.34159043431282043,accuracy:0.8601499795913696\n",
            "2500/2500 - 12s - loss: 0.3312 - accuracy: 0.8621 - 12s/epoch - 5ms/step\n",
            "epoch[2|100], Loss:0.3312021791934967,accuracy:0.8621249794960022\n",
            "2500/2500 - 11s - loss: 0.3302 - accuracy: 0.8617 - 11s/epoch - 5ms/step\n",
            "epoch[3|100], Loss:0.3302251696586609,accuracy:0.8616750240325928\n",
            "2500/2500 - 12s - loss: 0.3295 - accuracy: 0.8621 - 12s/epoch - 5ms/step\n",
            "epoch[4|100], Loss:0.32947733998298645,accuracy:0.8621125221252441\n",
            "2500/2500 - 12s - loss: 0.3287 - accuracy: 0.8628 - 12s/epoch - 5ms/step\n",
            "epoch[5|100], Loss:0.32870200276374817,accuracy:0.8628249764442444\n",
            "2500/2500 - 12s - loss: 0.3281 - accuracy: 0.8626 - 12s/epoch - 5ms/step\n",
            "epoch[6|100], Loss:0.32811614871025085,accuracy:0.8625624775886536\n",
            "2500/2500 - 11s - loss: 0.3276 - accuracy: 0.8624 - 11s/epoch - 5ms/step\n",
            "epoch[7|100], Loss:0.3275569677352905,accuracy:0.8624250292778015\n",
            "2500/2500 - 11s - loss: 0.3277 - accuracy: 0.8633 - 11s/epoch - 4ms/step\n",
            "epoch[8|100], Loss:0.3277183175086975,accuracy:0.8633000254631042\n",
            "2500/2500 - 12s - loss: 0.3267 - accuracy: 0.8626 - 12s/epoch - 5ms/step\n",
            "epoch[9|100], Loss:0.32671990990638733,accuracy:0.8625624775886536\n",
            "2500/2500 - 12s - loss: 0.3263 - accuracy: 0.8632 - 12s/epoch - 5ms/step\n",
            "epoch[10|100], Loss:0.3263053297996521,accuracy:0.8632375001907349\n",
            "2500/2500 - 11s - loss: 0.3263 - accuracy: 0.8630 - 11s/epoch - 5ms/step\n",
            "epoch[11|100], Loss:0.32634496688842773,accuracy:0.8630375266075134\n",
            "2500/2500 - 12s - loss: 0.3259 - accuracy: 0.8633 - 12s/epoch - 5ms/step\n",
            "epoch[12|100], Loss:0.32594844698905945,accuracy:0.8632500171661377\n",
            "2500/2500 - 12s - loss: 0.3262 - accuracy: 0.8631 - 12s/epoch - 5ms/step\n",
            "epoch[13|100], Loss:0.32616183161735535,accuracy:0.8631125092506409\n",
            "2500/2500 - 12s - loss: 0.3254 - accuracy: 0.8632 - 12s/epoch - 5ms/step\n",
            "epoch[14|100], Loss:0.3253616392612457,accuracy:0.8631500005722046\n",
            "2500/2500 - 11s - loss: 0.3254 - accuracy: 0.8627 - 11s/epoch - 4ms/step\n",
            "epoch[15|100], Loss:0.3254317045211792,accuracy:0.8627374768257141\n",
            "2500/2500 - 12s - loss: 0.3258 - accuracy: 0.8628 - 12s/epoch - 5ms/step\n",
            "epoch[16|100], Loss:0.3258199989795685,accuracy:0.8627750277519226\n",
            "2500/2500 - 12s - loss: 0.3251 - accuracy: 0.8637 - 12s/epoch - 5ms/step\n",
            "epoch[17|100], Loss:0.32509279251098633,accuracy:0.8637250065803528\n",
            "2500/2500 - 12s - loss: 0.3254 - accuracy: 0.8630 - 12s/epoch - 5ms/step\n",
            "epoch[18|100], Loss:0.3253506124019623,accuracy:0.8629500269889832\n",
            "2500/2500 - 12s - loss: 0.3252 - accuracy: 0.8636 - 12s/epoch - 5ms/step\n",
            "epoch[19|100], Loss:0.3251725435256958,accuracy:0.8636375069618225\n",
            "2500/2500 - 12s - loss: 0.3250 - accuracy: 0.8639 - 12s/epoch - 5ms/step\n",
            "epoch[20|100], Loss:0.3249512314796448,accuracy:0.8639000058174133\n",
            "2500/2500 - 13s - loss: 0.3249 - accuracy: 0.8637 - 13s/epoch - 5ms/step\n",
            "epoch[21|100], Loss:0.32486921548843384,accuracy:0.8636624813079834\n",
            "2500/2500 - 12s - loss: 0.3249 - accuracy: 0.8638 - 12s/epoch - 5ms/step\n",
            "epoch[22|100], Loss:0.3248692750930786,accuracy:0.863837480545044\n",
            "2500/2500 - 11s - loss: 0.3244 - accuracy: 0.8636 - 11s/epoch - 4ms/step\n",
            "epoch[23|100], Loss:0.3244037330150604,accuracy:0.863587498664856\n",
            "2500/2500 - 11s - loss: 0.3245 - accuracy: 0.8631 - 11s/epoch - 5ms/step\n",
            "epoch[24|100], Loss:0.32445237040519714,accuracy:0.8631125092506409\n",
            "2500/2500 - 12s - loss: 0.3240 - accuracy: 0.8635 - 12s/epoch - 5ms/step\n",
            "epoch[25|100], Loss:0.32398197054862976,accuracy:0.863462507724762\n",
            "2500/2500 - 12s - loss: 0.3246 - accuracy: 0.8638 - 12s/epoch - 5ms/step\n",
            "epoch[26|100], Loss:0.3245965540409088,accuracy:0.8637999892234802\n",
            "2500/2500 - 12s - loss: 0.3242 - accuracy: 0.8636 - 12s/epoch - 5ms/step\n",
            "epoch[27|100], Loss:0.32415851950645447,accuracy:0.8636000156402588\n",
            "2500/2500 - 12s - loss: 0.3242 - accuracy: 0.8637 - 12s/epoch - 5ms/step\n",
            "epoch[28|100], Loss:0.3241581916809082,accuracy:0.8636875152587891\n",
            "2500/2500 - 12s - loss: 0.3236 - accuracy: 0.8636 - 12s/epoch - 5ms/step\n",
            "epoch[29|100], Loss:0.32361745834350586,accuracy:0.8635749816894531\n",
            "2500/2500 - 12s - loss: 0.3238 - accuracy: 0.8644 - 12s/epoch - 5ms/step\n",
            "epoch[30|100], Loss:0.3238026201725006,accuracy:0.8644499778747559\n",
            "2500/2500 - 12s - loss: 0.3236 - accuracy: 0.8641 - 12s/epoch - 5ms/step\n",
            "epoch[31|100], Loss:0.3235982656478882,accuracy:0.8640875220298767\n",
            "2500/2500 - 11s - loss: 0.3233 - accuracy: 0.8645 - 11s/epoch - 5ms/step\n",
            "epoch[32|100], Loss:0.3233071565628052,accuracy:0.8645250201225281\n",
            "2500/2500 - 11s - loss: 0.3235 - accuracy: 0.8646 - 11s/epoch - 4ms/step\n",
            "epoch[33|100], Loss:0.3234703242778778,accuracy:0.8645750284194946\n",
            "2500/2500 - 11s - loss: 0.3235 - accuracy: 0.8643 - 11s/epoch - 5ms/step\n",
            "epoch[34|100], Loss:0.3235025405883789,accuracy:0.8642749786376953\n",
            "2500/2500 - 12s - loss: 0.3230 - accuracy: 0.8644 - 12s/epoch - 5ms/step\n",
            "epoch[35|100], Loss:0.3230271339416504,accuracy:0.8644124865531921\n",
            "2500/2500 - 11s - loss: 0.3231 - accuracy: 0.8643 - 11s/epoch - 5ms/step\n",
            "epoch[36|100], Loss:0.3231028914451599,accuracy:0.8643249869346619\n",
            "2500/2500 - 12s - loss: 0.3231 - accuracy: 0.8649 - 12s/epoch - 5ms/step\n",
            "epoch[37|100], Loss:0.323067307472229,accuracy:0.8648625016212463\n",
            "2500/2500 - 12s - loss: 0.3234 - accuracy: 0.8641 - 12s/epoch - 5ms/step\n",
            "epoch[38|100], Loss:0.32337066531181335,accuracy:0.864062488079071\n",
            "2500/2500 - 11s - loss: 0.3227 - accuracy: 0.8641 - 11s/epoch - 5ms/step\n",
            "epoch[39|100], Loss:0.3226945996284485,accuracy:0.8641124963760376\n",
            "2500/2500 - 12s - loss: 0.3229 - accuracy: 0.8643 - 12s/epoch - 5ms/step\n",
            "epoch[40|100], Loss:0.3228754699230194,accuracy:0.8643249869346619\n",
            "2500/2500 - 12s - loss: 0.3227 - accuracy: 0.8638 - 12s/epoch - 5ms/step\n",
            "epoch[41|100], Loss:0.3226628303527832,accuracy:0.8638250231742859\n",
            "2500/2500 - 12s - loss: 0.3229 - accuracy: 0.8639 - 12s/epoch - 5ms/step\n",
            "epoch[42|100], Loss:0.32289016246795654,accuracy:0.8638874888420105\n",
            "2500/2500 - 13s - loss: 0.3222 - accuracy: 0.8641 - 13s/epoch - 5ms/step\n",
            "epoch[43|100], Loss:0.32217925786972046,accuracy:0.8641374707221985\n",
            "2500/2500 - 12s - loss: 0.3221 - accuracy: 0.8641 - 12s/epoch - 5ms/step\n",
            "epoch[44|100], Loss:0.32206231355667114,accuracy:0.8641250133514404\n",
            "2500/2500 - 12s - loss: 0.3220 - accuracy: 0.8638 - 12s/epoch - 5ms/step\n",
            "epoch[45|100], Loss:0.32197117805480957,accuracy:0.8638499975204468\n",
            "2500/2500 - 12s - loss: 0.3222 - accuracy: 0.8644 - 12s/epoch - 5ms/step\n",
            "epoch[46|100], Loss:0.3222496211528778,accuracy:0.8643500208854675\n",
            "2500/2500 - 11s - loss: 0.3219 - accuracy: 0.8650 - 11s/epoch - 4ms/step\n",
            "epoch[47|100], Loss:0.32193878293037415,accuracy:0.8649625182151794\n",
            "2500/2500 - 11s - loss: 0.3219 - accuracy: 0.8646 - 11s/epoch - 4ms/step\n",
            "epoch[48|100], Loss:0.3218803405761719,accuracy:0.8646249771118164\n",
            "2500/2500 - 12s - loss: 0.3215 - accuracy: 0.8646 - 12s/epoch - 5ms/step\n",
            "epoch[49|100], Loss:0.3214879333972931,accuracy:0.8646000027656555\n",
            "2500/2500 - 12s - loss: 0.3211 - accuracy: 0.8648 - 12s/epoch - 5ms/step\n",
            "epoch[50|100], Loss:0.3211403489112854,accuracy:0.8648124933242798\n",
            "2500/2500 - 11s - loss: 0.3213 - accuracy: 0.8657 - 11s/epoch - 5ms/step\n",
            "epoch[51|100], Loss:0.32134124636650085,accuracy:0.8657125234603882\n",
            "2500/2500 - 12s - loss: 0.3209 - accuracy: 0.8655 - 12s/epoch - 5ms/step\n",
            "epoch[52|100], Loss:0.32094430923461914,accuracy:0.865512490272522\n",
            "2500/2500 - 11s - loss: 0.3212 - accuracy: 0.8658 - 11s/epoch - 5ms/step\n",
            "epoch[53|100], Loss:0.32120075821876526,accuracy:0.8657749891281128\n",
            "2500/2500 - 12s - loss: 0.3211 - accuracy: 0.8656 - 12s/epoch - 5ms/step\n",
            "epoch[54|100], Loss:0.32108980417251587,accuracy:0.8655624985694885\n",
            "2500/2500 - 12s - loss: 0.3205 - accuracy: 0.8655 - 12s/epoch - 5ms/step\n",
            "epoch[55|100], Loss:0.320468008518219,accuracy:0.8655375242233276\n",
            "2500/2500 - 12s - loss: 0.3205 - accuracy: 0.8658 - 12s/epoch - 5ms/step\n",
            "epoch[56|100], Loss:0.3205450475215912,accuracy:0.8658375144004822\n",
            "2500/2500 - 12s - loss: 0.3199 - accuracy: 0.8660 - 12s/epoch - 5ms/step\n",
            "epoch[57|100], Loss:0.3198555111885071,accuracy:0.8659874796867371\n",
            "2500/2500 - 11s - loss: 0.3202 - accuracy: 0.8661 - 11s/epoch - 5ms/step\n",
            "epoch[58|100], Loss:0.3201763927936554,accuracy:0.8660749793052673\n",
            "2500/2500 - 12s - loss: 0.3200 - accuracy: 0.8656 - 12s/epoch - 5ms/step\n",
            "epoch[59|100], Loss:0.3200472295284271,accuracy:0.865637481212616\n",
            "2500/2500 - 12s - loss: 0.3203 - accuracy: 0.8657 - 12s/epoch - 5ms/step\n",
            "epoch[60|100], Loss:0.32027876377105713,accuracy:0.8656874895095825\n",
            "2500/2500 - 12s - loss: 0.3197 - accuracy: 0.8660 - 12s/epoch - 5ms/step\n",
            "epoch[61|100], Loss:0.31967893242836,accuracy:0.8659999966621399\n",
            "2500/2500 - 13s - loss: 0.3195 - accuracy: 0.8656 - 13s/epoch - 5ms/step\n",
            "epoch[62|100], Loss:0.319469690322876,accuracy:0.8656499981880188\n",
            "2500/2500 - 12s - loss: 0.3195 - accuracy: 0.8664 - 12s/epoch - 5ms/step\n",
            "epoch[63|100], Loss:0.31952694058418274,accuracy:0.8664125204086304\n",
            "2500/2500 - 11s - loss: 0.3188 - accuracy: 0.8664 - 11s/epoch - 4ms/step\n",
            "epoch[64|100], Loss:0.3188035488128662,accuracy:0.8664374947547913\n",
            "2500/2500 - 11s - loss: 0.3190 - accuracy: 0.8661 - 11s/epoch - 4ms/step\n",
            "epoch[65|100], Loss:0.31902259588241577,accuracy:0.8660625219345093\n",
            "2500/2500 - 12s - loss: 0.3184 - accuracy: 0.8661 - 12s/epoch - 5ms/step\n",
            "epoch[66|100], Loss:0.31837427616119385,accuracy:0.8660749793052673\n",
            "2500/2500 - 12s - loss: 0.3191 - accuracy: 0.8661 - 12s/epoch - 5ms/step\n",
            "epoch[67|100], Loss:0.3190908133983612,accuracy:0.866112470626831\n",
            "2500/2500 - 12s - loss: 0.3187 - accuracy: 0.8663 - 12s/epoch - 5ms/step\n",
            "epoch[68|100], Loss:0.31869176030158997,accuracy:0.8663250207901001\n",
            "2500/2500 - 12s - loss: 0.3181 - accuracy: 0.8666 - 12s/epoch - 5ms/step\n",
            "epoch[69|100], Loss:0.3181096017360687,accuracy:0.8666250109672546\n",
            "2500/2500 - 11s - loss: 0.3187 - accuracy: 0.8667 - 11s/epoch - 5ms/step\n",
            "epoch[70|100], Loss:0.3186642527580261,accuracy:0.8666999936103821\n",
            "2500/2500 - 11s - loss: 0.3180 - accuracy: 0.8673 - 11s/epoch - 4ms/step\n",
            "epoch[71|100], Loss:0.3180110454559326,accuracy:0.8672500252723694\n",
            "2500/2500 - 12s - loss: 0.3173 - accuracy: 0.8664 - 12s/epoch - 5ms/step\n",
            "epoch[72|100], Loss:0.3173244297504425,accuracy:0.8663874864578247\n",
            "2500/2500 - 12s - loss: 0.3179 - accuracy: 0.8673 - 12s/epoch - 5ms/step\n",
            "epoch[73|100], Loss:0.31789714097976685,accuracy:0.8672999739646912\n",
            "2500/2500 - 12s - loss: 0.3171 - accuracy: 0.8671 - 12s/epoch - 5ms/step\n",
            "epoch[74|100], Loss:0.31713008880615234,accuracy:0.8671125173568726\n",
            "2500/2500 - 11s - loss: 0.3174 - accuracy: 0.8669 - 11s/epoch - 4ms/step\n",
            "epoch[75|100], Loss:0.3173569440841675,accuracy:0.8669499754905701\n",
            "2500/2500 - 12s - loss: 0.3172 - accuracy: 0.8673 - 12s/epoch - 5ms/step\n",
            "epoch[76|100], Loss:0.3171670138835907,accuracy:0.8672999739646912\n",
            "2500/2500 - 11s - loss: 0.3169 - accuracy: 0.8675 - 11s/epoch - 5ms/step\n",
            "epoch[77|100], Loss:0.31689462065696716,accuracy:0.8675374984741211\n",
            "2500/2500 - 11s - loss: 0.3170 - accuracy: 0.8676 - 11s/epoch - 4ms/step\n",
            "epoch[78|100], Loss:0.31701013445854187,accuracy:0.8676124811172485\n",
            "2500/2500 - 11s - loss: 0.3167 - accuracy: 0.8664 - 11s/epoch - 4ms/step\n",
            "epoch[79|100], Loss:0.31666603684425354,accuracy:0.8663750290870667\n",
            "2500/2500 - 12s - loss: 0.3165 - accuracy: 0.8676 - 12s/epoch - 5ms/step\n",
            "epoch[80|100], Loss:0.31654539704322815,accuracy:0.8676249980926514\n",
            "2500/2500 - 12s - loss: 0.3160 - accuracy: 0.8673 - 12s/epoch - 5ms/step\n",
            "epoch[81|100], Loss:0.31596148014068604,accuracy:0.8673375248908997\n",
            "2500/2500 - 12s - loss: 0.3152 - accuracy: 0.8672 - 12s/epoch - 5ms/step\n",
            "epoch[82|100], Loss:0.3152099847793579,accuracy:0.8672375082969666\n",
            "2500/2500 - 12s - loss: 0.3155 - accuracy: 0.8676 - 12s/epoch - 5ms/step\n",
            "epoch[83|100], Loss:0.3155078887939453,accuracy:0.8676499724388123\n",
            "2500/2500 - 12s - loss: 0.3156 - accuracy: 0.8677 - 12s/epoch - 5ms/step\n",
            "epoch[84|100], Loss:0.3156091570854187,accuracy:0.8676750063896179\n",
            "2500/2500 - 12s - loss: 0.3150 - accuracy: 0.8677 - 12s/epoch - 5ms/step\n",
            "epoch[85|100], Loss:0.31502723693847656,accuracy:0.8676999807357788\n",
            "2500/2500 - 11s - loss: 0.3152 - accuracy: 0.8675 - 11s/epoch - 4ms/step\n",
            "epoch[86|100], Loss:0.3151898682117462,accuracy:0.8675000071525574\n",
            "2500/2500 - 11s - loss: 0.3150 - accuracy: 0.8681 - 11s/epoch - 5ms/step\n",
            "epoch[87|100], Loss:0.31497901678085327,accuracy:0.8680874705314636\n",
            "2500/2500 - 12s - loss: 0.3141 - accuracy: 0.8686 - 12s/epoch - 5ms/step\n",
            "epoch[88|100], Loss:0.3140937387943268,accuracy:0.8686249852180481\n",
            "2500/2500 - 12s - loss: 0.3144 - accuracy: 0.8673 - 12s/epoch - 5ms/step\n",
            "epoch[89|100], Loss:0.31436118483543396,accuracy:0.8672749996185303\n",
            "2500/2500 - 11s - loss: 0.3144 - accuracy: 0.8680 - 11s/epoch - 5ms/step\n",
            "epoch[90|100], Loss:0.31437617540359497,accuracy:0.8680124878883362\n",
            "2500/2500 - 12s - loss: 0.3138 - accuracy: 0.8687 - 12s/epoch - 5ms/step\n",
            "epoch[91|100], Loss:0.3137580454349518,accuracy:0.8686624765396118\n",
            "2500/2500 - 11s - loss: 0.3139 - accuracy: 0.8686 - 11s/epoch - 5ms/step\n",
            "epoch[92|100], Loss:0.3139146864414215,accuracy:0.8686375021934509\n",
            "2500/2500 - 12s - loss: 0.3134 - accuracy: 0.8683 - 12s/epoch - 5ms/step\n",
            "epoch[93|100], Loss:0.3134409785270691,accuracy:0.868274986743927\n",
            "2500/2500 - 11s - loss: 0.3130 - accuracy: 0.8685 - 11s/epoch - 5ms/step\n",
            "epoch[94|100], Loss:0.3129808008670807,accuracy:0.8684750199317932\n",
            "2500/2500 - 12s - loss: 0.3132 - accuracy: 0.8686 - 12s/epoch - 5ms/step\n",
            "epoch[95|100], Loss:0.3131695091724396,accuracy:0.8686000108718872\n",
            "2500/2500 - 12s - loss: 0.3126 - accuracy: 0.8693 - 12s/epoch - 5ms/step\n",
            "epoch[96|100], Loss:0.3126262128353119,accuracy:0.8693125247955322\n",
            "2500/2500 - 11s - loss: 0.3120 - accuracy: 0.8689 - 11s/epoch - 5ms/step\n",
            "epoch[97|100], Loss:0.31201449036598206,accuracy:0.8688750267028809\n",
            "2500/2500 - 11s - loss: 0.3121 - accuracy: 0.8694 - 11s/epoch - 5ms/step\n",
            "epoch[98|100], Loss:0.31212499737739563,accuracy:0.869362473487854\n",
            "2500/2500 - 12s - loss: 0.3117 - accuracy: 0.8692 - 12s/epoch - 5ms/step\n",
            "epoch[99|100], Loss:0.31172147393226624,accuracy:0.8692499995231628\n",
            "2500/2500 - 11s - loss: 0.3118 - accuracy: 0.8692 - 11s/epoch - 5ms/step\n",
            "epoch[100|100], Loss:0.3118356466293335,accuracy:0.869225025177002\n"
          ]
        },
        {
          "output_type": "display_data",
          "data": {
            "text/plain": [
              "<Figure size 640x480 with 1 Axes>"
            ],
            "image/png": "[encoded data removed]"
          },
          "metadata": {}
        },
        {
          "output_type": "display_data",
          "data": {
            "text/plain": [
              "<Figure size 640x480 with 1 Axes>"
            ],
            "image/png": "[encoded data removed]"
          },
          "metadata": {}
        },
        {
          "output_type": "stream",
          "name": "stdout",
          "text": [
            "625/625 [==============================] - 3s 3ms/step - loss: 0.3269 - accuracy: 0.8644\n",
            "625/625 [==============================] - 2s 2ms/step\n"
          ]
        },
        {
          "output_type": "display_data",
          "data": {
            "text/plain": [
              "<Figure size 600x500 with 2 Axes>"
            ],
            "image/png": "[encoded data removed]"
          },
          "metadata": {}
        },
        {
          "output_type": "stream",
          "name": "stdout",
          "text": [
            "Test Loss: 0.32693907618522644\n",
            "Test Accuracy: 0.8643500208854675\n",
            "F1-score: 0.18011483831973407\n",
            "Sensitivity: 0.10899780541331383\n",
            "Specificity: 0.9839569095331866\n",
            "Precision: 0.5182608695652174\n"
          ]
        }
      ]
    },
    {
      "cell_type": "code",
      "source": [
        "# this fucntion calculates different evaluation parameters of a model\n",
        "from sklearn.metrics import accuracy_score, precision_score, recall_score, f1_score, roc_auc_score,mean_absolute_error,mean_squared_error\n",
        "def evaluate_model(y_true,y_pred):\n",
        "  accuracy = accuracy_score(y_true, y_pred)\n",
        "  print(\"Accuracy:\", accuracy)\n",
        "  precision = precision_score(y_true, y_pred)\n",
        "  print(\"Precision:\", precision)\n",
        "  recall = recall_score(y_true, y_pred)\n",
        "  print(\"Recall:\", recall)\n",
        "  f1 = f1_score(y_true, y_pred)\n",
        "  print(\"F1 Score:\", f1)\n",
        "  auc = roc_auc_score(y_true, y_pred)\n",
        "  print(\"AUC-ROC:\", auc)\n",
        "  mae = mean_absolute_error(y_true, y_pred)\n",
        "  print(\"Mean Absolute Error:\", mae)\n",
        "  rmse = np.sqrt(mean_squared_error(y_true, y_pred))\n",
        "  print(\"Root Mean Squared Error:\", rmse)\n",
        "  cm = confusion_matrix(y_true, y_pred)\n",
        "  sns.heatmap(cm, annot=True, fmt='d')\n",
        "  plt.show()"
      ],
      "metadata": {
        "id": "aJkp4Kw9lSXF"
      },
      "execution_count": null,
      "outputs": []
    },
    {
      "cell_type": "code",
      "source": [
        "X_test"
      ],
      "metadata": {
        "colab": {
          "base_uri": "https://localhost:8080/",
          "height": 487
        },
        "id": "mERrXKb5uRJX",
        "outputId": "2f787ca1-19f7-44e4-d848-63ce05f65825"
      },
      "execution_count": null,
      "outputs": [
        {
          "output_type": "execute_result",
          "data": {
            "text/plain": [
              "       HighBP  HighChol  CholCheck  BMI  Smoker  Stroke  HeartDiseaseorAttack  \\\n",
              "3582        0         0          1   20       1       0                     0   \n",
              "60498       0         1          1   37       1       0                     0   \n",
              "53227       0         0          1   22       0       0                     0   \n",
              "21333       0         0          1   27       0       0                     0   \n",
              "3885        0         1          1   24       1       1                     1   \n",
              "...       ...       ...        ...  ...     ...     ...                   ...   \n",
              "60116       1         1          1   28       0       0                     1   \n",
              "2415        1         0          1   31       1       0                     0   \n",
              "43763       0         0          1   19       1       0                     0   \n",
              "71345       0         0          1   23       0       0                     0   \n",
              "77687       0         0          1   26       1       0                     0   \n",
              "\n",
              "       PhysActivity  Fruits  Veggies  HvyAlcoholConsump  MentHlth  PhysHlth  \\\n",
              "3582              0       1        1                  0         2         5   \n",
              "60498             0       0        1                  0         0        10   \n",
              "53227             0       1        1                  0         0        10   \n",
              "21333             1       1        1                  0         0         0   \n",
              "3885              1       1        1                  0         0         0   \n",
              "...             ...     ...      ...                ...       ...       ...   \n",
              "60116             1       0        1                  0         0         3   \n",
              "2415              0       0        0                  0         0         0   \n",
              "43763             0       0        1                  0        10        30   \n",
              "71345             1       1        1                  0         0         0   \n",
              "77687             1       1        1                  0         3         0   \n",
              "\n",
              "       Sex  Age  Education  Income  \n",
              "3582     0    5          6       8  \n",
              "60498    0    8          4       7  \n",
              "53227    0   10          6       7  \n",
              "21333    0    8          6       8  \n",
              "3885     1   10          5       2  \n",
              "...    ...  ...        ...     ...  \n",
              "60116    1   11          6       7  \n",
              "2415     1    8          5       7  \n",
              "43763    0    3          4       2  \n",
              "71345    0   11          6       8  \n",
              "77687    0    4          5       5  \n",
              "\n",
              "[20000 rows x 17 columns]"
            ],
            "text/html": [
              "\n",
              "  <div id=\"df-e0e8da04-646d-417f-a376-01fc53d958cf\">\n",
              "    <div class=\"colab-df-container\">\n",
              "      <div>\n",
              "<style scoped>\n",
              "    .dataframe tbody tr th:only-of-type {\n",
              "        vertical-align: middle;\n",
              "    }\n",
              "\n",
              "    .dataframe tbody tr th {\n",
              "        vertical-align: top;\n",
              "    }\n",
              "\n",
              "    .dataframe thead th {\n",
              "        text-align: right;\n",
              "    }\n",
              "</style>\n",
              "<table border=\"1\" class=\"dataframe\">\n",
              "  <thead>\n",
              "    <tr style=\"text-align: right;\">\n",
              "      <th></th>\n",
              "      <th>HighBP</th>\n",
              "      <th>HighChol</th>\n",
              "      <th>CholCheck</th>\n",
              "      <th>BMI</th>\n",
              "      <th>Smoker</th>\n",
              "      <th>Stroke</th>\n",
              "      <th>HeartDiseaseorAttack</th>\n",
              "      <th>PhysActivity</th>\n",
              "      <th>Fruits</th>\n",
              "      <th>Veggies</th>\n",
              "      <th>HvyAlcoholConsump</th>\n",
              "      <th>MentHlth</th>\n",
              "      <th>PhysHlth</th>\n",
              "      <th>Sex</th>\n",
              "      <th>Age</th>\n",
              "      <th>Education</th>\n",
              "      <th>Income</th>\n",
              "    </tr>\n",
              "  </thead>\n",
              "  <tbody>\n",
              "    <tr>\n",
              "      <th>3582</th>\n",
              "      <td>0</td>\n",
              "      <td>0</td>\n",
              "      <td>1</td>\n",
              "      <td>20</td>\n",
              "      <td>1</td>\n",
              "      <td>0</td>\n",
              "      <td>0</td>\n",
              "      <td>0</td>\n",
              "      <td>1</td>\n",
              "      <td>1</td>\n",
              "      <td>0</td>\n",
              "      <td>2</td>\n",
              "      <td>5</td>\n",
              "      <td>0</td>\n",
              "      <td>5</td>\n",
              "      <td>6</td>\n",
              "      <td>8</td>\n",
              "    </tr>\n",
              "    <tr>\n",
              "      <th>60498</th>\n",
              "      <td>0</td>\n",
              "      <td>1</td>\n",
              "      <td>1</td>\n",
              "      <td>37</td>\n",
              "      <td>1</td>\n",
              "      <td>0</td>\n",
              "      <td>0</td>\n",
              "      <td>0</td>\n",
              "      <td>0</td>\n",
              "      <td>1</td>\n",
              "      <td>0</td>\n",
              "      <td>0</td>\n",
              "      <td>10</td>\n",
              "      <td>0</td>\n",
              "      <td>8</td>\n",
              "      <td>4</td>\n",
              "      <td>7</td>\n",
              "    </tr>\n",
              "    <tr>\n",
              "      <th>53227</th>\n",
              "      <td>0</td>\n",
              "      <td>0</td>\n",
              "      <td>1</td>\n",
              "      <td>22</td>\n",
              "      <td>0</td>\n",
              "      <td>0</td>\n",
              "      <td>0</td>\n",
              "      <td>0</td>\n",
              "      <td>1</td>\n",
              "      <td>1</td>\n",
              "      <td>0</td>\n",
              "      <td>0</td>\n",
              "      <td>10</td>\n",
              "      <td>0</td>\n",
              "      <td>10</td>\n",
              "      <td>6</td>\n",
              "      <td>7</td>\n",
              "    </tr>\n",
              "    <tr>\n",
              "      <th>21333</th>\n",
              "      <td>0</td>\n",
              "      <td>0</td>\n",
              "      <td>1</td>\n",
              "      <td>27</td>\n",
              "      <td>0</td>\n",
              "      <td>0</td>\n",
              "      <td>0</td>\n",
              "      <td>1</td>\n",
              "      <td>1</td>\n",
              "      <td>1</td>\n",
              "      <td>0</td>\n",
              "      <td>0</td>\n",
              "      <td>0</td>\n",
              "      <td>0</td>\n",
              "      <td>8</td>\n",
              "      <td>6</td>\n",
              "      <td>8</td>\n",
              "    </tr>\n",
              "    <tr>\n",
              "      <th>3885</th>\n",
              "      <td>0</td>\n",
              "      <td>1</td>\n",
              "      <td>1</td>\n",
              "      <td>24</td>\n",
              "      <td>1</td>\n",
              "      <td>1</td>\n",
              "      <td>1</td>\n",
              "      <td>1</td>\n",
              "      <td>1</td>\n",
              "      <td>1</td>\n",
              "      <td>0</td>\n",
              "      <td>0</td>\n",
              "      <td>0</td>\n",
              "      <td>1</td>\n",
              "      <td>10</td>\n",
              "      <td>5</td>\n",
              "      <td>2</td>\n",
              "    </tr>\n",
              "    <tr>\n",
              "      <th>...</th>\n",
              "      <td>...</td>\n",
              "      <td>...</td>\n",
              "      <td>...</td>\n",
              "      <td>...</td>\n",
              "      <td>...</td>\n",
              "      <td>...</td>\n",
              "      <td>...</td>\n",
              "      <td>...</td>\n",
              "      <td>...</td>\n",
              "      <td>...</td>\n",
              "      <td>...</td>\n",
              "      <td>...</td>\n",
              "      <td>...</td>\n",
              "      <td>...</td>\n",
              "      <td>...</td>\n",
              "      <td>...</td>\n",
              "      <td>...</td>\n",
              "    </tr>\n",
              "    <tr>\n",
              "      <th>60116</th>\n",
              "      <td>1</td>\n",
              "      <td>1</td>\n",
              "      <td>1</td>\n",
              "      <td>28</td>\n",
              "      <td>0</td>\n",
              "      <td>0</td>\n",
              "      <td>1</td>\n",
              "      <td>1</td>\n",
              "      <td>0</td>\n",
              "      <td>1</td>\n",
              "      <td>0</td>\n",
              "      <td>0</td>\n",
              "      <td>3</td>\n",
              "      <td>1</td>\n",
              "      <td>11</td>\n",
              "      <td>6</td>\n",
              "      <td>7</td>\n",
              "    </tr>\n",
              "    <tr>\n",
              "      <th>2415</th>\n",
              "      <td>1</td>\n",
              "      <td>0</td>\n",
              "      <td>1</td>\n",
              "      <td>31</td>\n",
              "      <td>1</td>\n",
              "      <td>0</td>\n",
              "      <td>0</td>\n",
              "      <td>0</td>\n",
              "      <td>0</td>\n",
              "      <td>0</td>\n",
              "      <td>0</td>\n",
              "      <td>0</td>\n",
              "      <td>0</td>\n",
              "      <td>1</td>\n",
              "      <td>8</td>\n",
              "      <td>5</td>\n",
              "      <td>7</td>\n",
              "    </tr>\n",
              "    <tr>\n",
              "      <th>43763</th>\n",
              "      <td>0</td>\n",
              "      <td>0</td>\n",
              "      <td>1</td>\n",
              "      <td>19</td>\n",
              "      <td>1</td>\n",
              "      <td>0</td>\n",
              "      <td>0</td>\n",
              "      <td>0</td>\n",
              "      <td>0</td>\n",
              "      <td>1</td>\n",
              "      <td>0</td>\n",
              "      <td>10</td>\n",
              "      <td>30</td>\n",
              "      <td>0</td>\n",
              "      <td>3</td>\n",
              "      <td>4</td>\n",
              "      <td>2</td>\n",
              "    </tr>\n",
              "    <tr>\n",
              "      <th>71345</th>\n",
              "      <td>0</td>\n",
              "      <td>0</td>\n",
              "      <td>1</td>\n",
              "      <td>23</td>\n",
              "      <td>0</td>\n",
              "      <td>0</td>\n",
              "      <td>0</td>\n",
              "      <td>1</td>\n",
              "      <td>1</td>\n",
              "      <td>1</td>\n",
              "      <td>0</td>\n",
              "      <td>0</td>\n",
              "      <td>0</td>\n",
              "      <td>0</td>\n",
              "      <td>11</td>\n",
              "      <td>6</td>\n",
              "      <td>8</td>\n",
              "    </tr>\n",
              "    <tr>\n",
              "      <th>77687</th>\n",
              "      <td>0</td>\n",
              "      <td>0</td>\n",
              "      <td>1</td>\n",
              "      <td>26</td>\n",
              "      <td>1</td>\n",
              "      <td>0</td>\n",
              "      <td>0</td>\n",
              "      <td>1</td>\n",
              "      <td>1</td>\n",
              "      <td>1</td>\n",
              "      <td>0</td>\n",
              "      <td>3</td>\n",
              "      <td>0</td>\n",
              "      <td>0</td>\n",
              "      <td>4</td>\n",
              "      <td>5</td>\n",
              "      <td>5</td>\n",
              "    </tr>\n",
              "  </tbody>\n",
              "</table>\n",
              "<p>20000 rows × 17 columns</p>\n",
              "</div>\n",
              "      <button class=\"colab-df-convert\" onclick=\"convertToInteractive('df-e0e8da04-646d-417f-a376-01fc53d958cf')\"\n",
              "              title=\"Convert this dataframe to an interactive table.\"\n",
              "              style=\"display:none;\">\n",
              "        \n",
              "  <svg xmlns=\"http://www.w3.org/2000/svg\" height=\"24px\"viewBox=\"0 0 24 24\"\n",
              "       width=\"24px\">\n",
              "    <path d=\"M0 0h24v24H0V0z\" fill=\"none\"/>\n",
              "    <path d=\"M18.56 5.44l.94 2.06.94-2.06 2.06-.94-2.06-.94-.94-2.06-.94 2.06-2.06.94zm-11 1L8.5 8.5l.94-2.06 2.06-.94-2.06-.94L8.5 2.5l-.94 2.06-2.06.94zm10 10l.94 2.06.94-2.06 2.06-.94-2.06-.94-.94-2.06-.94 2.06-2.06.94z\"/><path d=\"M17.41 7.96l-1.37-1.37c-.4-.4-.92-.59-1.43-.59-.52 0-1.04.2-1.43.59L10.3 9.45l-7.72 7.72c-.78.78-.78 2.05 0 2.83L4 21.41c.39.39.9.59 1.41.59.51 0 1.02-.2 1.41-.59l7.78-7.78 2.81-2.81c.8-.78.8-2.07 0-2.86zM5.41 20L4 18.59l7.72-7.72 1.47 1.35L5.41 20z\"/>\n",
              "  </svg>\n",
              "      </button>\n",
              "      \n",
              "  <style>\n",
              "    .colab-df-container {\n",
              "      display:flex;\n",
              "      flex-wrap:wrap;\n",
              "      gap: 12px;\n",
              "    }\n",
              "\n",
              "    .colab-df-convert {\n",
              "      background-color: #E8F0FE;\n",
              "      border: none;\n",
              "      border-radius: 50%;\n",
              "      cursor: pointer;\n",
              "      display: none;\n",
              "      fill: #1967D2;\n",
              "      height: 32px;\n",
              "      padding: 0 0 0 0;\n",
              "      width: 32px;\n",
              "    }\n",
              "\n",
              "    .colab-df-convert:hover {\n",
              "      background-color: #E2EBFA;\n",
              "      box-shadow: 0px 1px 2px rgba(60, 64, 67, 0.3), 0px 1px 3px 1px rgba(60, 64, 67, 0.15);\n",
              "      fill: #174EA6;\n",
              "    }\n",
              "\n",
              "    [theme=dark] .colab-df-convert {\n",
              "      background-color: #3B4455;\n",
              "      fill: #D2E3FC;\n",
              "    }\n",
              "\n",
              "    [theme=dark] .colab-df-convert:hover {\n",
              "      background-color: #434B5C;\n",
              "      box-shadow: 0px 1px 3px 1px rgba(0, 0, 0, 0.15);\n",
              "      filter: drop-shadow(0px 1px 2px rgba(0, 0, 0, 0.3));\n",
              "      fill: #FFFFFF;\n",
              "    }\n",
              "  </style>\n",
              "\n",
              "      <script>\n",
              "        const buttonEl =\n",
              "          document.querySelector('#df-e0e8da04-646d-417f-a376-01fc53d958cf button.colab-df-convert');\n",
              "        buttonEl.style.display =\n",
              "          google.colab.kernel.accessAllowed ? 'block' : 'none';\n",
              "\n",
              "        async function convertToInteractive(key) {\n",
              "          const element = document.querySelector('#df-e0e8da04-646d-417f-a376-01fc53d958cf');\n",
              "          const dataTable =\n",
              "            await google.colab.kernel.invokeFunction('convertToInteractive',\n",
              "                                                     [key], {});\n",
              "          if (!dataTable) return;\n",
              "\n",
              "          const docLinkHtml = 'Like what you see? Visit the ' +\n",
              "            '<a target=\"_blank\" href=https://colab.research.google.com/notebooks/data_table.ipynb>data table notebook</a>'\n",
              "            + ' to learn more about interactive tables.';\n",
              "          element.innerHTML = '';\n",
              "          dataTable['output_type'] = 'display_data';\n",
              "          await google.colab.output.renderOutput(dataTable, element);\n",
              "          const docLink = document.createElement('div');\n",
              "          docLink.innerHTML = docLinkHtml;\n",
              "          element.appendChild(docLink);\n",
              "        }\n",
              "      </script>\n",
              "    </div>\n",
              "  </div>\n",
              "  "
            ]
          },
          "metadata": {},
          "execution_count": 15
        }
      ]
    },
    {
      "cell_type": "code",
      "source": [
        "y_test"
      ],
      "metadata": {
        "colab": {
          "base_uri": "https://localhost:8080/"
        },
        "id": "rjlQuBiyuU-s",
        "outputId": "a148cdb6-3d5f-4927-96f5-2afab084d04b"
      },
      "execution_count": null,
      "outputs": [
        {
          "output_type": "execute_result",
          "data": {
            "text/plain": [
              "3582     0\n",
              "60498    1\n",
              "53227    0\n",
              "21333    0\n",
              "3885     0\n",
              "        ..\n",
              "60116    1\n",
              "2415     0\n",
              "43763    0\n",
              "71345    0\n",
              "77687    0\n",
              "Name: Diabetes_binary, Length: 20000, dtype: int64"
            ]
          },
          "metadata": {},
          "execution_count": 16
        }
      ]
    },
    {
      "cell_type": "markdown",
      "source": [
        "**Decision Tree**"
      ],
      "metadata": {
        "id": "QVfcDGR1ufn3"
      }
    },
    {
      "cell_type": "code",
      "execution_count": null,
      "metadata": {
        "id": "lIY49LHAReVW"
      },
      "outputs": [],
      "source": [
        "from sklearn.metrics import confusion_matrix\n",
        "from sklearn.model_selection import train_test_split\n",
        "from sklearn.tree import DecisionTreeClassifier\n",
        "from sklearn.metrics import accuracy_score\n",
        "from sklearn.metrics import classification_report"
      ]
    },
    {
      "cell_type": "code",
      "execution_count": null,
      "metadata": {
        "colab": {
          "base_uri": "https://localhost:8080/"
        },
        "id": "W1YSm9rTahQp",
        "outputId": "431b02a7-aee4-47df-ae21-3b5bb915fd74"
      },
      "outputs": [
        {
          "output_type": "stream",
          "name": "stdout",
          "text": [
            "Best hyperparameters:  {'criterion': 'gini', 'max_depth': 6, 'max_features': None, 'min_samples_leaf': 1, 'min_samples_split': 2, 'splitter': 'best'}\n",
            "Accuracy score:  0.8655375\n"
          ]
        }
      ],
      "source": [
        "from sklearn.tree import DecisionTreeClassifier\n",
        "from sklearn.model_selection import GridSearchCV\n",
        "from sklearn.metrics import accuracy_score\n",
        "import numpy as np\n",
        "\n",
        "\n",
        "# Define the hyperparameters to tune and their possible values\n",
        "param_grid = {\n",
        "    'max_depth': np.arange(2, 10, 2),\n",
        "    'min_samples_split': np.arange(2, 10, 2),\n",
        "    'min_samples_leaf': np.arange(1, 5, 1),\n",
        "    'max_features': [None, 'sqrt'],\n",
        "    'criterion': ['gini', 'entropy'],\n",
        "    'splitter':['best','random']\n",
        "}\n",
        "\n",
        "\n",
        "# Create a decision tree classifier\n",
        "clf = DecisionTreeClassifier(random_state=42)\n",
        "\n",
        "# Create a grid search object\n",
        "grid_search = GridSearchCV(clf, param_grid=param_grid, cv=5, n_jobs=-1)\n",
        "\n",
        "# Fit the grid search object to the data\n",
        "grid_search.fit(X_train, y_train)\n",
        "\n",
        "# Print the best hyperparameters and the corresponding accuracy score\n",
        "print(\"Best hyperparameters: \", grid_search.best_params_)\n",
        "print(\"Accuracy score: \", grid_search.best_score_)\n",
        "\n"
      ]
    },
    {
      "cell_type": "code",
      "execution_count": null,
      "metadata": {
        "id": "QdY_TbeAbFoA",
        "colab": {
          "base_uri": "https://localhost:8080/",
          "height": 74
        },
        "outputId": "9082562c-ecce-4b69-f244-56868625262f"
      },
      "outputs": [
        {
          "output_type": "execute_result",
          "data": {
            "text/plain": [
              "DecisionTreeClassifier(class_weight='balanced', max_depth=6)"
            ],
            "text/html": [
              "<style>#sk-container-id-1 {color: black;background-color: white;}#sk-container-id-1 pre{padding: 0;}#sk-container-id-1 div.sk-toggleable {background-color: white;}#sk-container-id-1 label.sk-toggleable__label {cursor: pointer;display: block;width: 100%;margin-bottom: 0;padding: 0.3em;box-sizing: border-box;text-align: center;}#sk-container-id-1 label.sk-toggleable__label-arrow:before {content: \"▸\";float: left;margin-right: 0.25em;color: #696969;}#sk-container-id-1 label.sk-toggleable__label-arrow:hover:before {color: black;}#sk-container-id-1 div.sk-estimator:hover label.sk-toggleable__label-arrow:before {color: black;}#sk-container-id-1 div.sk-toggleable__content {max-height: 0;max-width: 0;overflow: hidden;text-align: left;background-color: #f0f8ff;}#sk-container-id-1 div.sk-toggleable__content pre {margin: 0.2em;color: black;border-radius: 0.25em;background-color: #f0f8ff;}#sk-container-id-1 input.sk-toggleable__control:checked~div.sk-toggleable__content {max-height: 200px;max-width: 100%;overflow: auto;}#sk-container-id-1 input.sk-toggleable__control:checked~label.sk-toggleable__label-arrow:before {content: \"▾\";}#sk-container-id-1 div.sk-estimator input.sk-toggleable__control:checked~label.sk-toggleable__label {background-color: #d4ebff;}#sk-container-id-1 div.sk-label input.sk-toggleable__control:checked~label.sk-toggleable__label {background-color: #d4ebff;}#sk-container-id-1 input.sk-hidden--visually {border: 0;clip: rect(1px 1px 1px 1px);clip: rect(1px, 1px, 1px, 1px);height: 1px;margin: -1px;overflow: hidden;padding: 0;position: absolute;width: 1px;}#sk-container-id-1 div.sk-estimator {font-family: monospace;background-color: #f0f8ff;border: 1px dotted black;border-radius: 0.25em;box-sizing: border-box;margin-bottom: 0.5em;}#sk-container-id-1 div.sk-estimator:hover {background-color: #d4ebff;}#sk-container-id-1 div.sk-parallel-item::after {content: \"\";width: 100%;border-bottom: 1px solid gray;flex-grow: 1;}#sk-container-id-1 div.sk-label:hover label.sk-toggleable__label {background-color: #d4ebff;}#sk-container-id-1 div.sk-serial::before {content: \"\";position: absolute;border-left: 1px solid gray;box-sizing: border-box;top: 0;bottom: 0;left: 50%;z-index: 0;}#sk-container-id-1 div.sk-serial {display: flex;flex-direction: column;align-items: center;background-color: white;padding-right: 0.2em;padding-left: 0.2em;position: relative;}#sk-container-id-1 div.sk-item {position: relative;z-index: 1;}#sk-container-id-1 div.sk-parallel {display: flex;align-items: stretch;justify-content: center;background-color: white;position: relative;}#sk-container-id-1 div.sk-item::before, #sk-container-id-1 div.sk-parallel-item::before {content: \"\";position: absolute;border-left: 1px solid gray;box-sizing: border-box;top: 0;bottom: 0;left: 50%;z-index: -1;}#sk-container-id-1 div.sk-parallel-item {display: flex;flex-direction: column;z-index: 1;position: relative;background-color: white;}#sk-container-id-1 div.sk-parallel-item:first-child::after {align-self: flex-end;width: 50%;}#sk-container-id-1 div.sk-parallel-item:last-child::after {align-self: flex-start;width: 50%;}#sk-container-id-1 div.sk-parallel-item:only-child::after {width: 0;}#sk-container-id-1 div.sk-dashed-wrapped {border: 1px dashed gray;margin: 0 0.4em 0.5em 0.4em;box-sizing: border-box;padding-bottom: 0.4em;background-color: white;}#sk-container-id-1 div.sk-label label {font-family: monospace;font-weight: bold;display: inline-block;line-height: 1.2em;}#sk-container-id-1 div.sk-label-container {text-align: center;}#sk-container-id-1 div.sk-container {/* jupyter's `normalize.less` sets `[hidden] { display: none; }` but bootstrap.min.css set `[hidden] { display: none !important; }` so we also need the `!important` here to be able to override the default hidden behavior on the sphinx rendered scikit-learn.org. See: https://github.com/scikit-learn/scikit-learn/issues/21755 */display: inline-block !important;position: relative;}#sk-container-id-1 div.sk-text-repr-fallback {display: none;}</style><div id=\"sk-container-id-1\" class=\"sk-top-container\"><div class=\"sk-text-repr-fallback\"><pre>DecisionTreeClassifier(class_weight=&#x27;balanced&#x27;, max_depth=6)</pre><b>In a Jupyter environment, please rerun this cell to show the HTML representation or trust the notebook. <br />On GitHub, the HTML representation is unable to render, please try loading this page with nbviewer.org.</b></div><div class=\"sk-container\" hidden><div class=\"sk-item\"><div class=\"sk-estimator sk-toggleable\"><input class=\"sk-toggleable__control sk-hidden--visually\" id=\"sk-estimator-id-1\" type=\"checkbox\" checked><label for=\"sk-estimator-id-1\" class=\"sk-toggleable__label sk-toggleable__label-arrow\">DecisionTreeClassifier</label><div class=\"sk-toggleable__content\"><pre>DecisionTreeClassifier(class_weight=&#x27;balanced&#x27;, max_depth=6)</pre></div></div></div></div></div>"
            ]
          },
          "metadata": {},
          "execution_count": 20
        }
      ],
      "source": [
        "# Creating a classifier object\n",
        "clf = DecisionTreeClassifier(class_weight='balanced',\n",
        "                                      criterion='gini',\n",
        "                                      max_depth=6,\n",
        "                                      max_features=None,\n",
        "                                      min_samples_leaf=1,\n",
        "                                      min_samples_split=2,\n",
        "                                      splitter='best')\n",
        "# Training\n",
        "clf.fit(X_train, y_train)"
      ]
    },
    {
      "cell_type": "code",
      "source": [
        "y_pred=clf.predict(X_test)\n",
        "print(\"Predicted values:\",y_pred)"
      ],
      "metadata": {
        "colab": {
          "base_uri": "https://localhost:8080/"
        },
        "id": "ER3nr6-LlLBJ",
        "outputId": "1701b2e8-e8e2-4df2-c815-850091a1074e"
      },
      "execution_count": null,
      "outputs": [
        {
          "output_type": "stream",
          "name": "stdout",
          "text": [
            "Predicted values: [0 1 0 ... 0 0 0]\n"
          ]
        }
      ]
    },
    {
      "cell_type": "code",
      "source": [
        "print(y_test.shape)"
      ],
      "metadata": {
        "id": "3a4Jc_sOMBNA",
        "outputId": "64f979bb-bda6-4076-c585-36f273ee4790",
        "colab": {
          "base_uri": "https://localhost:8080/"
        }
      },
      "execution_count": null,
      "outputs": [
        {
          "output_type": "stream",
          "name": "stdout",
          "text": [
            "(20000,)\n"
          ]
        }
      ]
    },
    {
      "cell_type": "code",
      "source": [
        "from sklearn.metrics import accuracy_score, precision_score, recall_score, f1_score, roc_auc_score,mean_absolute_error,mean_squared_error\n",
        "evaluate_model(y_test, y_pred)"
      ],
      "metadata": {
        "colab": {
          "base_uri": "https://localhost:8080/",
          "height": 551
        },
        "id": "yH8xjNDolaWj",
        "outputId": "2fc5b732-bece-47c0-9b81-8abc7b1ab002"
      },
      "execution_count": null,
      "outputs": [
        {
          "output_type": "stream",
          "name": "stdout",
          "text": [
            "Accuracy: 0.68465\n",
            "Precision: 0.2678454485920105\n",
            "Recall: 0.7404055032585083\n",
            "F1 Score: 0.3933827065499664\n",
            "AUC-ROC: 0.7080609718404156\n",
            "Mean Absolute Error: 0.31535\n",
            "Root Mean Squared Error: 0.5615603262339676\n"
          ]
        },
        {
          "output_type": "display_data",
          "data": {
            "text/plain": [
              "<Figure size 640x480 with 2 Axes>"
            ],
            "image/png": "[encoded data removed]"
          },
          "metadata": {}
        }
      ]
    },
    {
      "cell_type": "code",
      "source": [
        "import numpy as np\n",
        "\n",
        "# Assuming your training data has shape (n_samples, n_features)\n",
        "n_features = 17  # replace with the number of features in your data\n",
        "string = '''\t1\t1\t0\t25\t1\t0\t1\t0\t1\t1\t0\t8\t0\t0\t9\t3\t2'''\n",
        "print(len(list(map(int, string.split()))))\n",
        "input_data = np.array(list(map(int, string.split())))\n",
        "input_data_reshaped = input_data.reshape(1, 17)\n",
        "\n",
        "# Make predictions using the trained model\n",
        "predictions = clf.predict(input_data_reshaped)\n",
        "\n",
        "print(predictions)"
      ],
      "metadata": {
        "colab": {
          "base_uri": "https://localhost:8080/"
        },
        "id": "Qhcd6DSANokQ",
        "outputId": "340cba99-8b82-4812-8bc4-ccfc1292ad0a"
      },
      "execution_count": null,
      "outputs": [
        {
          "output_type": "stream",
          "name": "stdout",
          "text": [
            "17\n",
            "[1]\n"
          ]
        },
        {
          "output_type": "stream",
          "name": "stderr",
          "text": [
            "/usr/local/lib/python3.9/dist-packages/sklearn/base.py:439: UserWarning: X does not have valid feature names, but DecisionTreeClassifier was fitted with feature names\n",
            "  warnings.warn(\n"
          ]
        }
      ]
    },
    {
      "cell_type": "code",
      "source": [
        "#saving the model\n",
        "import joblib\n",
        "joblib.dump(clf, 'dia_dec.pkl')"
      ],
      "metadata": {
        "colab": {
          "base_uri": "https://localhost:8080/"
        },
        "id": "YEBgX_z-xGyF",
        "outputId": "6aa056e4-4a9e-4575-dff1-7157be25d76e"
      },
      "execution_count": null,
      "outputs": [
        {
          "output_type": "execute_result",
          "data": {
            "text/plain": [
              "['dia_dec.pkl']"
            ]
          },
          "metadata": {},
          "execution_count": 24
        }
      ]
    },
    {
      "cell_type": "code",
      "source": [
        "import joblib\n",
        "joblib.load('dia_dec.pkl')"
      ],
      "metadata": {
        "colab": {
          "base_uri": "https://localhost:8080/",
          "height": 74
        },
        "id": "LibhIaM-xg6r",
        "outputId": "5c6b7645-4372-4309-8e63-4b7c16e64e07"
      },
      "execution_count": null,
      "outputs": [
        {
          "output_type": "execute_result",
          "data": {
            "text/plain": [
              "DecisionTreeClassifier(class_weight='balanced', max_depth=6)"
            ],
            "text/html": [
              "<style>#sk-container-id-2 {color: black;background-color: white;}#sk-container-id-2 pre{padding: 0;}#sk-container-id-2 div.sk-toggleable {background-color: white;}#sk-container-id-2 label.sk-toggleable__label {cursor: pointer;display: block;width: 100%;margin-bottom: 0;padding: 0.3em;box-sizing: border-box;text-align: center;}#sk-container-id-2 label.sk-toggleable__label-arrow:before {content: \"▸\";float: left;margin-right: 0.25em;color: #696969;}#sk-container-id-2 label.sk-toggleable__label-arrow:hover:before {color: black;}#sk-container-id-2 div.sk-estimator:hover label.sk-toggleable__label-arrow:before {color: black;}#sk-container-id-2 div.sk-toggleable__content {max-height: 0;max-width: 0;overflow: hidden;text-align: left;background-color: #f0f8ff;}#sk-container-id-2 div.sk-toggleable__content pre {margin: 0.2em;color: black;border-radius: 0.25em;background-color: #f0f8ff;}#sk-container-id-2 input.sk-toggleable__control:checked~div.sk-toggleable__content {max-height: 200px;max-width: 100%;overflow: auto;}#sk-container-id-2 input.sk-toggleable__control:checked~label.sk-toggleable__label-arrow:before {content: \"▾\";}#sk-container-id-2 div.sk-estimator input.sk-toggleable__control:checked~label.sk-toggleable__label {background-color: #d4ebff;}#sk-container-id-2 div.sk-label input.sk-toggleable__control:checked~label.sk-toggleable__label {background-color: #d4ebff;}#sk-container-id-2 input.sk-hidden--visually {border: 0;clip: rect(1px 1px 1px 1px);clip: rect(1px, 1px, 1px, 1px);height: 1px;margin: -1px;overflow: hidden;padding: 0;position: absolute;width: 1px;}#sk-container-id-2 div.sk-estimator {font-family: monospace;background-color: #f0f8ff;border: 1px dotted black;border-radius: 0.25em;box-sizing: border-box;margin-bottom: 0.5em;}#sk-container-id-2 div.sk-estimator:hover {background-color: #d4ebff;}#sk-container-id-2 div.sk-parallel-item::after {content: \"\";width: 100%;border-bottom: 1px solid gray;flex-grow: 1;}#sk-container-id-2 div.sk-label:hover label.sk-toggleable__label {background-color: #d4ebff;}#sk-container-id-2 div.sk-serial::before {content: \"\";position: absolute;border-left: 1px solid gray;box-sizing: border-box;top: 0;bottom: 0;left: 50%;z-index: 0;}#sk-container-id-2 div.sk-serial {display: flex;flex-direction: column;align-items: center;background-color: white;padding-right: 0.2em;padding-left: 0.2em;position: relative;}#sk-container-id-2 div.sk-item {position: relative;z-index: 1;}#sk-container-id-2 div.sk-parallel {display: flex;align-items: stretch;justify-content: center;background-color: white;position: relative;}#sk-container-id-2 div.sk-item::before, #sk-container-id-2 div.sk-parallel-item::before {content: \"\";position: absolute;border-left: 1px solid gray;box-sizing: border-box;top: 0;bottom: 0;left: 50%;z-index: -1;}#sk-container-id-2 div.sk-parallel-item {display: flex;flex-direction: column;z-index: 1;position: relative;background-color: white;}#sk-container-id-2 div.sk-parallel-item:first-child::after {align-self: flex-end;width: 50%;}#sk-container-id-2 div.sk-parallel-item:last-child::after {align-self: flex-start;width: 50%;}#sk-container-id-2 div.sk-parallel-item:only-child::after {width: 0;}#sk-container-id-2 div.sk-dashed-wrapped {border: 1px dashed gray;margin: 0 0.4em 0.5em 0.4em;box-sizing: border-box;padding-bottom: 0.4em;background-color: white;}#sk-container-id-2 div.sk-label label {font-family: monospace;font-weight: bold;display: inline-block;line-height: 1.2em;}#sk-container-id-2 div.sk-label-container {text-align: center;}#sk-container-id-2 div.sk-container {/* jupyter's `normalize.less` sets `[hidden] { display: none; }` but bootstrap.min.css set `[hidden] { display: none !important; }` so we also need the `!important` here to be able to override the default hidden behavior on the sphinx rendered scikit-learn.org. See: https://github.com/scikit-learn/scikit-learn/issues/21755 */display: inline-block !important;position: relative;}#sk-container-id-2 div.sk-text-repr-fallback {display: none;}</style><div id=\"sk-container-id-2\" class=\"sk-top-container\"><div class=\"sk-text-repr-fallback\"><pre>DecisionTreeClassifier(class_weight=&#x27;balanced&#x27;, max_depth=6)</pre><b>In a Jupyter environment, please rerun this cell to show the HTML representation or trust the notebook. <br />On GitHub, the HTML representation is unable to render, please try loading this page with nbviewer.org.</b></div><div class=\"sk-container\" hidden><div class=\"sk-item\"><div class=\"sk-estimator sk-toggleable\"><input class=\"sk-toggleable__control sk-hidden--visually\" id=\"sk-estimator-id-2\" type=\"checkbox\" checked><label for=\"sk-estimator-id-2\" class=\"sk-toggleable__label sk-toggleable__label-arrow\">DecisionTreeClassifier</label><div class=\"sk-toggleable__content\"><pre>DecisionTreeClassifier(class_weight=&#x27;balanced&#x27;, max_depth=6)</pre></div></div></div></div></div>"
            ]
          },
          "metadata": {},
          "execution_count": 25
        }
      ]
    },
    {
      "cell_type": "markdown",
      "source": [
        "**Random Forest Classifier**"
      ],
      "metadata": {
        "id": "5m9fY6R-uZ3u"
      }
    },
    {
      "cell_type": "code",
      "source": [
        "from sklearn.ensemble import RandomForestClassifier\n",
        "from sklearn.model_selection import GridSearchCV\n",
        "\n",
        "# Define the hyperparameter grid\n",
        "param_grid = {\n",
        "    'n_estimators': [50, 100, 200],\n",
        "    'criterion': ['gini', 'entropy'],\n",
        "    'max_depth': [None, 10, 20],\n",
        "    'min_samples_split': [2, 5, 10],\n",
        "    'min_samples_leaf': [1, 2, 4],\n",
        "    'max_features': ['auto', 'sqrt', 'log2']\n",
        "}\n",
        "\n",
        "\n",
        "# Create a Random Forest classifier\n",
        "rfc = RandomForestClassifier()\n",
        "\n",
        "# Perform a grid search with 5-fold cross-validation\n",
        "grid_search = GridSearchCV(rfc, param_grid, cv=5, n_jobs=-1)\n",
        "\n",
        "# Fit the grid search to the data\n",
        "grid_search.fit(X_train, y_train)\n",
        "\n",
        "# Print the best hyperparameters and corresponding score\n",
        "print(\"Best hyperparameters: \", grid_search.best_params_)\n",
        "print(\"Best score: \", grid_search.best_score_)"
      ],
      "metadata": {
        "id": "RmGwd3EelfP_"
      },
      "execution_count": null,
      "outputs": []
    },
    {
      "cell_type": "code",
      "source": [
        "from sklearn.ensemble import RandomForestClassifier\n",
        "model = RandomForestClassifier(criterion='entropy', max_depth=10, max_features='sqrt', min_samples_leaf=2, min_samples_split=10, n_estimators=100)\n",
        "model.fit(X_train, y_train)\n",
        "rcf_predictions = model.predict(X_test)"
      ],
      "metadata": {
        "id": "7tlf26MUpmJR"
      },
      "execution_count": null,
      "outputs": []
    },
    {
      "cell_type": "code",
      "source": [
        "y_pred=model.predict(X_test)\n",
        "print(\"Predicted values:\",y_pred)"
      ],
      "metadata": {
        "colab": {
          "base_uri": "https://localhost:8080/"
        },
        "id": "qG6DfnbOPLRO",
        "outputId": "1c14ab5d-da25-4e03-fd62-0d2c9dabbdb1"
      },
      "execution_count": null,
      "outputs": [
        {
          "output_type": "stream",
          "name": "stdout",
          "text": [
            "Predicted values: [0 0 0 ... 0 0 0]\n"
          ]
        }
      ]
    },
    {
      "cell_type": "code",
      "source": [
        "evaluate_model(y_test,rcf_predictions)"
      ],
      "metadata": {
        "colab": {
          "base_uri": "https://localhost:8080/",
          "height": 551
        },
        "id": "1iACcttVRnYs",
        "outputId": "318c5009-14ef-44cb-e063-2eb3ebe8871c"
      },
      "execution_count": null,
      "outputs": [
        {
          "output_type": "stream",
          "name": "stdout",
          "text": [
            "Accuracy: 0.864\n",
            "Precision: 0.5564516129032258\n",
            "Recall: 0.07494569152787835\n",
            "F1 Score: 0.13209955328653478\n",
            "AUC-ROC: 0.5326869077200826\n",
            "Mean Absolute Error: 0.136\n",
            "Root Mean Squared Error: 0.3687817782917155\n"
          ]
        },
        {
          "output_type": "display_data",
          "data": {
            "text/plain": [
              "<Figure size 640x480 with 2 Axes>"
            ],
            "image/png": "[encoded data removed]"
          },
          "metadata": {}
        }
      ]
    },
    {
      "cell_type": "code",
      "source": [
        "import numpy as np\n",
        "\n",
        "# Assuming your training data has shape (n_samples, n_features)\n",
        "n_features = 17  # replace with the number of features in your data\n",
        "string = '''1\t1\t1\t35\t1\t0\t0\t0\t0\t1\t0\t0\t0\t1\t7\t4\t5'''\n",
        "print(len(list(map(int, string.split()))))\n",
        "input_data = np.array(list(map(int, string.split())))\n",
        "input_data_reshaped = input_data.reshape(1, 17)\n",
        "\n",
        "# Make predictions using the trained model\n",
        "predictions = model.predict(input_data_reshaped)\n",
        "\n",
        "print(predictions)"
      ],
      "metadata": {
        "colab": {
          "base_uri": "https://localhost:8080/"
        },
        "id": "2FC6k8mAMdyP",
        "outputId": "5a82ce69-7b17-4e44-ed2c-d25a04dc413a"
      },
      "execution_count": null,
      "outputs": [
        {
          "output_type": "stream",
          "name": "stdout",
          "text": [
            "17\n",
            "[0]\n"
          ]
        },
        {
          "output_type": "stream",
          "name": "stderr",
          "text": [
            "/usr/local/lib/python3.9/dist-packages/sklearn/base.py:439: UserWarning: X does not have valid feature names, but RandomForestClassifier was fitted with feature names\n",
            "  warnings.warn(\n"
          ]
        }
      ]
    },
    {
      "cell_type": "code",
      "source": [
        "#saving the model\n",
        "import joblib\n",
        "joblib.dump(model, 'dia_ran.pkl')"
      ],
      "metadata": {
        "colab": {
          "base_uri": "https://localhost:8080/"
        },
        "id": "yibpIOPRxwrj",
        "outputId": "57be702f-cb87-4c7c-b787-33e9f3bbaee1"
      },
      "execution_count": null,
      "outputs": [
        {
          "output_type": "execute_result",
          "data": {
            "text/plain": [
              "['dia_ran.pkl']"
            ]
          },
          "metadata": {},
          "execution_count": 31
        }
      ]
    },
    {
      "cell_type": "markdown",
      "source": [
        "**Logistic Regression using penalty as Elasticnet**"
      ],
      "metadata": {
        "id": "rwYCjoCZuq0b"
      }
    },
    {
      "cell_type": "code",
      "source": [
        "from sklearn.linear_model import LogisticRegression\n",
        "from sklearn.model_selection import GridSearchCV\n",
        "# Define the hyperparameter grid\n",
        "#ElasticNet\n",
        "param_grid = [    {'penalty': ['elasticnet'],\n",
        "     'solver': ['saga'],\n",
        "     'l1_ratio': [0.1, 0.5, 0.9],\n",
        "     'C': [100, 1, 10]}\n",
        "]\n",
        "logreg = LogisticRegression()\n",
        "# Perform grid search with crss-validation\n",
        "grid_search = GridSearchCV(logreg, param_grid=param_grid, cv=3, verbose=2, n_jobs=-1,)\n",
        "\n",
        "# Fit the grid search to the training data\n",
        "grid_search.fit(X_train, y_train)\n",
        "\n",
        "# Print the best hyperparameters\n",
        "print(grid_search.best_params_)\n"
      ],
      "metadata": {
        "colab": {
          "base_uri": "https://localhost:8080/"
        },
        "id": "u1_midvVF9QO",
        "outputId": "e06f8401-8f35-4edb-f609-929b3971a891"
      },
      "execution_count": null,
      "outputs": [
        {
          "output_type": "stream",
          "name": "stdout",
          "text": [
            "Fitting 3 folds for each of 9 candidates, totalling 27 fits\n",
            "{'C': 1, 'l1_ratio': 0.5, 'penalty': 'elasticnet', 'solver': 'saga'}\n"
          ]
        },
        {
          "output_type": "stream",
          "name": "stderr",
          "text": [
            "/usr/local/lib/python3.9/dist-packages/sklearn/linear_model/_sag.py:350: ConvergenceWarning: The max_iter was reached which means the coef_ did not converge\n",
            "  warnings.warn(\n"
          ]
        }
      ]
    },
    {
      "cell_type": "code",
      "source": [
        "from sklearn.linear_model import LogisticRegression\n",
        "logreg = LogisticRegression(penalty='elasticnet', C=1, solver='saga', l1_ratio=0.5)\n",
        "logreg.fit(X_train, y_train)\n",
        "predictions = logreg.predict(X_test)"
      ],
      "metadata": {
        "colab": {
          "base_uri": "https://localhost:8080/"
        },
        "id": "JUiNxL47GB9V",
        "outputId": "aaf354ca-4a6e-4fe9-db13-89d561ec81c0"
      },
      "execution_count": null,
      "outputs": [
        {
          "output_type": "stream",
          "name": "stderr",
          "text": [
            "/usr/local/lib/python3.9/dist-packages/sklearn/linear_model/_sag.py:350: ConvergenceWarning: The max_iter was reached which means the coef_ did not converge\n",
            "  warnings.warn(\n"
          ]
        }
      ]
    },
    {
      "cell_type": "code",
      "source": [
        "evaluate_model(y_test,predictions)"
      ],
      "metadata": {
        "colab": {
          "base_uri": "https://localhost:8080/",
          "height": 551
        },
        "id": "vmen7_PtG9yk",
        "outputId": "e8052f9d-5607-4c27-cbeb-7a307eb7321a"
      },
      "execution_count": null,
      "outputs": [
        {
          "output_type": "stream",
          "name": "stdout",
          "text": [
            "Accuracy: 0.86285\n",
            "Precision: 0.5143288084464555\n",
            "Recall: 0.12346125995655322\n",
            "F1 Score: 0.19912408759124084\n",
            "AUC-ROC: 0.5523907993714776\n",
            "Mean Absolute Error: 0.13715\n",
            "Root Mean Squared Error: 0.3703376837428241\n"
          ]
        },
        {
          "output_type": "display_data",
          "data": {
            "text/plain": [
              "<Figure size 640x480 with 2 Axes>"
            ],
            "image/png": "[encoded data removed]"
          },
          "metadata": {}
        }
      ]
    },
    {
      "cell_type": "code",
      "source": [
        "y_pred=logreg.predict(X_test)\n",
        "print(\"Predicted values:\",y_pred)"
      ],
      "metadata": {
        "colab": {
          "base_uri": "https://localhost:8080/"
        },
        "id": "-0HHEQZxPYMQ",
        "outputId": "3807c32a-7fd7-4cde-d004-f38c03dd0ff4"
      },
      "execution_count": null,
      "outputs": [
        {
          "output_type": "stream",
          "name": "stdout",
          "text": [
            "Predicted values: [0 0 0 ... 0 0 0]\n"
          ]
        }
      ]
    },
    {
      "cell_type": "code",
      "source": [
        "import numpy as np\n",
        "\n",
        "# Assuming your training data has shape (n_samples, n_features)\n",
        "n_features = 17  # replace with the number of features in your data\n",
        "string = '''1\t1\t1\t35\t1\t0\t0\t0\t0\t1\t0\t0\t0\t1\t7\t4\t5'''\n",
        "print(len(list(map(int, string.split()))))\n",
        "input_data = np.array(list(map(int, string.split())))\n",
        "input_data_reshaped = input_data.reshape(1, 17)\n",
        "\n",
        "# Make predictions using the trained model\n",
        "predictions = logreg.predict(input_data_reshaped)\n",
        "\n",
        "print(predictions)"
      ],
      "metadata": {
        "colab": {
          "base_uri": "https://localhost:8080/"
        },
        "id": "Tl-tOO7wOJba",
        "outputId": "efe34d12-0e36-4c1a-f541-4ef7f5d2bc83"
      },
      "execution_count": null,
      "outputs": [
        {
          "output_type": "stream",
          "name": "stdout",
          "text": [
            "17\n",
            "[0]\n"
          ]
        },
        {
          "output_type": "stream",
          "name": "stderr",
          "text": [
            "/usr/local/lib/python3.9/dist-packages/sklearn/base.py:439: UserWarning: X does not have valid feature names, but LogisticRegression was fitted with feature names\n",
            "  warnings.warn(\n"
          ]
        }
      ]
    },
    {
      "cell_type": "code",
      "source": [
        "#saving the model\n",
        "import joblib\n",
        "joblib.dump(logreg, 'dia_log_elastic.pkl')"
      ],
      "metadata": {
        "colab": {
          "base_uri": "https://localhost:8080/"
        },
        "id": "xBlhTLMvx4Es",
        "outputId": "458c3afd-089b-48bc-e834-b24f433d29b3"
      },
      "execution_count": null,
      "outputs": [
        {
          "output_type": "execute_result",
          "data": {
            "text/plain": [
              "['dia_log_elastic.pkl']"
            ]
          },
          "metadata": {},
          "execution_count": 36
        }
      ]
    },
    {
      "cell_type": "markdown",
      "source": [
        "**Logistic Regression using penalty as l2**"
      ],
      "metadata": {
        "id": "G68ldP0eu29I"
      }
    },
    {
      "cell_type": "code",
      "source": [
        "from sklearn.model_selection import GridSearchCV\n",
        "# Define the hyperparameter grid\n",
        "#l1\n",
        "param_grid = [    {'penalty': ['l2'],\n",
        "     'solver': ['lbfgs','saga','liblinear','newton-cg','newton-cholesky','sag'],\n",
        "     'l1_ratio': [0.1, 0.5, 0.9],\n",
        "     'C': [0.1, 1, 10]}\n",
        "]\n",
        "\n",
        "# Perform grid search with crss-validation\n",
        "grid_search = GridSearchCV(logreg, param_grid=param_grid, cv=3, verbose=2, n_jobs=-1,)\n",
        "\n",
        "# Fit the grid search to the training data\n",
        "grid_search.fit(X_train, y_train)\n",
        "\n",
        "# Print the best hyperparameters\n",
        "print(grid_search.best_params_)"
      ],
      "metadata": {
        "colab": {
          "base_uri": "https://localhost:8080/"
        },
        "id": "8SYOpdDyHB_n",
        "outputId": "43b69a3a-6a40-4e02-af81-66654977debb"
      },
      "execution_count": null,
      "outputs": [
        {
          "output_type": "stream",
          "name": "stdout",
          "text": [
            "Fitting 3 folds for each of 54 candidates, totalling 162 fits\n"
          ]
        },
        {
          "output_type": "stream",
          "name": "stderr",
          "text": [
            "/usr/local/lib/python3.9/dist-packages/sklearn/linear_model/_logistic.py:1165: UserWarning: l1_ratio parameter is only used when penalty is 'elasticnet'. Got (penalty=l2)\n",
            "  warnings.warn(\n"
          ]
        },
        {
          "output_type": "stream",
          "name": "stdout",
          "text": [
            "{'C': 0.1, 'l1_ratio': 0.1, 'penalty': 'l2', 'solver': 'liblinear'}\n"
          ]
        }
      ]
    },
    {
      "cell_type": "code",
      "source": [
        "from sklearn.linear_model import LogisticRegression\n",
        "logreg1 = LogisticRegression(penalty='l2', C=0.1, solver='liblinear', l1_ratio=0.1)\n",
        "logreg1.fit(X_train, y_train)\n",
        "predictions = logreg1.predict(X_test)"
      ],
      "metadata": {
        "colab": {
          "base_uri": "https://localhost:8080/"
        },
        "id": "93R4YgYcHgbl",
        "outputId": "defeec2a-de3b-4103-9842-002ff0a7ce3d"
      },
      "execution_count": null,
      "outputs": [
        {
          "output_type": "stream",
          "name": "stderr",
          "text": [
            "/usr/local/lib/python3.9/dist-packages/sklearn/linear_model/_logistic.py:1165: UserWarning: l1_ratio parameter is only used when penalty is 'elasticnet'. Got (penalty=l2)\n",
            "  warnings.warn(\n"
          ]
        }
      ]
    },
    {
      "cell_type": "code",
      "source": [
        "y_pred=logreg1.predict(X_test)\n",
        "print(\"Predicted values:\",y_pred)"
      ],
      "metadata": {
        "colab": {
          "base_uri": "https://localhost:8080/"
        },
        "id": "XhuD8416PdLu",
        "outputId": "18982917-06b7-42f1-d91d-a95a60fb03d7"
      },
      "execution_count": null,
      "outputs": [
        {
          "output_type": "stream",
          "name": "stdout",
          "text": [
            "Predicted values: [0 0 0 ... 0 0 0]\n"
          ]
        }
      ]
    },
    {
      "cell_type": "code",
      "source": [
        "evaluate_model(y_test,predictions)"
      ],
      "metadata": {
        "colab": {
          "base_uri": "https://localhost:8080/",
          "height": 551
        },
        "id": "MmS8I_FlI3JO",
        "outputId": "08bb6060-ed3d-44a1-954f-3829e989cf9d"
      },
      "execution_count": null,
      "outputs": [
        {
          "output_type": "stream",
          "name": "stdout",
          "text": [
            "Accuracy: 0.8629\n",
            "Precision: 0.5153374233128835\n",
            "Recall: 0.1216509775524982\n",
            "F1 Score: 0.19683655536028122\n",
            "AUC-ROC: 0.5516596922801358\n",
            "Mean Absolute Error: 0.1371\n",
            "Root Mean Squared Error: 0.37027017163147236\n"
          ]
        },
        {
          "output_type": "display_data",
          "data": {
            "text/plain": [
              "<Figure size 640x480 with 2 Axes>"
            ],
            "image/png": "[encoded data removed]"
          },
          "metadata": {}
        }
      ]
    },
    {
      "cell_type": "code",
      "source": [
        "import numpy as np\n",
        "\n",
        "# Assuming your training data has shape (n_samples, n_features)\n",
        "n_features = 17  # replace with the number of features in your data\n",
        "string = '''1\t1\t1\t25\t1\t0\t0\t1\t0\t1\t0\t3\t0\t1\t11\t5\t5'''\n",
        "print(len(list(map(int, string.split()))))\n",
        "input_data = np.array(list(map(int, string.split())))\n",
        "input_data_reshaped = input_data.reshape(1, 17)\n",
        "\n",
        "# Make predictions using the trained model\n",
        "predictions = logreg1.predict(input_data_reshaped)\n",
        "\n",
        "print(predictions)"
      ],
      "metadata": {
        "colab": {
          "base_uri": "https://localhost:8080/"
        },
        "id": "xmfG0TmBOgAm",
        "outputId": "9db7ea73-f547-423f-9856-9c1bb983b616"
      },
      "execution_count": null,
      "outputs": [
        {
          "output_type": "stream",
          "name": "stdout",
          "text": [
            "17\n",
            "[0]\n"
          ]
        },
        {
          "output_type": "stream",
          "name": "stderr",
          "text": [
            "/usr/local/lib/python3.9/dist-packages/sklearn/base.py:439: UserWarning: X does not have valid feature names, but LogisticRegression was fitted with feature names\n",
            "  warnings.warn(\n"
          ]
        }
      ]
    },
    {
      "cell_type": "code",
      "source": [
        "#saving the model\n",
        "import joblib\n",
        "joblib.dump(logreg1, 'dia_log_l2.pkl')"
      ],
      "metadata": {
        "colab": {
          "base_uri": "https://localhost:8080/"
        },
        "id": "I3Q_3gdOx-XH",
        "outputId": "feed1c1a-b9c1-4f08-f5d0-aea07d1a18c9"
      },
      "execution_count": null,
      "outputs": [
        {
          "output_type": "execute_result",
          "data": {
            "text/plain": [
              "['dia_log_l2.pkl']"
            ]
          },
          "metadata": {},
          "execution_count": 41
        }
      ]
    },
    {
      "cell_type": "markdown",
      "source": [
        "**Logistic Regression using penalty as l1**"
      ],
      "metadata": {
        "id": "n3UXX-Auu8Pk"
      }
    },
    {
      "cell_type": "code",
      "source": [
        "from sklearn.model_selection import GridSearchCV\n",
        "# Define the hyperparameter grid\n",
        "#l1\n",
        "param_grid = [    {'penalty': ['l1'],\n",
        "     'solver': ['liblinear','saga'],\n",
        "     'l1_ratio': [0.1, 0.5, 0.9],\n",
        "     'C': [0.1, 1, 10]}\n",
        "]\n",
        "\n",
        "# Perform grid search with crss-validation\n",
        "grid_search = GridSearchCV(logreg, param_grid=param_grid, cv=3, verbose=2, n_jobs=-1,)\n",
        "\n",
        "# Fit the grid search to the training data\n",
        "grid_search.fit(X_train, y_train)\n",
        "\n",
        "# Print the best hyperparameters\n",
        "print(grid_search.best_params_)"
      ],
      "metadata": {
        "colab": {
          "base_uri": "https://localhost:8080/"
        },
        "id": "phYhGH8rI6kD",
        "outputId": "8e016c8e-6ec8-46f1-c142-902e9eccdc71"
      },
      "execution_count": null,
      "outputs": [
        {
          "output_type": "stream",
          "name": "stdout",
          "text": [
            "Fitting 3 folds for each of 18 candidates, totalling 54 fits\n"
          ]
        },
        {
          "output_type": "stream",
          "name": "stderr",
          "text": [
            "/usr/local/lib/python3.9/dist-packages/sklearn/linear_model/_logistic.py:1165: UserWarning: l1_ratio parameter is only used when penalty is 'elasticnet'. Got (penalty=l1)\n",
            "  warnings.warn(\n"
          ]
        },
        {
          "output_type": "stream",
          "name": "stdout",
          "text": [
            "{'C': 0.1, 'l1_ratio': 0.1, 'penalty': 'l1', 'solver': 'saga'}\n"
          ]
        },
        {
          "output_type": "stream",
          "name": "stderr",
          "text": [
            "/usr/local/lib/python3.9/dist-packages/sklearn/linear_model/_sag.py:350: ConvergenceWarning: The max_iter was reached which means the coef_ did not converge\n",
            "  warnings.warn(\n"
          ]
        }
      ]
    },
    {
      "cell_type": "code",
      "source": [
        "from sklearn.linear_model import LogisticRegression\n",
        "logreg2 = LogisticRegression(penalty='l1', C=0.1, solver='liblinear', l1_ratio=0.1)\n",
        "logreg2.fit(X_train, y_train)\n",
        "predictions = logreg2.predict(X_test)"
      ],
      "metadata": {
        "colab": {
          "base_uri": "https://localhost:8080/"
        },
        "id": "fL-PcLOcJAEo",
        "outputId": "4702fcee-ff7a-46ba-92fa-d13809ad0ae5"
      },
      "execution_count": null,
      "outputs": [
        {
          "output_type": "stream",
          "name": "stderr",
          "text": [
            "/usr/local/lib/python3.9/dist-packages/sklearn/linear_model/_logistic.py:1165: UserWarning: l1_ratio parameter is only used when penalty is 'elasticnet'. Got (penalty=l1)\n",
            "  warnings.warn(\n"
          ]
        }
      ]
    },
    {
      "cell_type": "code",
      "source": [
        "y_pred=logreg2.predict(X_test)\n",
        "print(\"Predicted values:\",y_pred)"
      ],
      "metadata": {
        "colab": {
          "base_uri": "https://localhost:8080/"
        },
        "id": "4C4S96OtPhM0",
        "outputId": "a14f9e66-38a6-4469-8e73-efd208dbe765"
      },
      "execution_count": null,
      "outputs": [
        {
          "output_type": "stream",
          "name": "stdout",
          "text": [
            "Predicted values: [0 0 0 ... 0 0 0]\n"
          ]
        }
      ]
    },
    {
      "cell_type": "code",
      "source": [
        "evaluate_model(y_test,predictions)"
      ],
      "metadata": {
        "colab": {
          "base_uri": "https://localhost:8080/",
          "height": 551
        },
        "id": "FqRTcDcCJtaJ",
        "outputId": "1490c331-25ae-4457-9376-d270a38be4c9"
      },
      "execution_count": null,
      "outputs": [
        {
          "output_type": "stream",
          "name": "stdout",
          "text": [
            "Accuracy: 0.86295\n",
            "Precision: 0.5159817351598174\n",
            "Recall: 0.12273714699493121\n",
            "F1 Score: 0.19830359754314125\n",
            "AUC-ROC: 0.5521447656311238\n",
            "Mean Absolute Error: 0.13705\n",
            "Root Mean Squared Error: 0.3702026472082554\n"
          ]
        },
        {
          "output_type": "display_data",
          "data": {
            "text/plain": [
              "<Figure size 640x480 with 2 Axes>"
            ],
            "image/png": "[encoded data removed]"
          },
          "metadata": {}
        }
      ]
    },
    {
      "cell_type": "code",
      "source": [
        "import numpy as np\n",
        "\n",
        "# Assuming your training data has shape (n_samples, n_features)\n",
        "n_features = 17  # replace with the number of features in your data\n",
        "string = '''1\t1\t1\t25\t1\t0\t0\t1\t0\t1\t0\t3\t0\t1\t11\t5\t5'''\n",
        "print(len(list(map(int, string.split()))))\n",
        "input_data = np.array(list(map(int, string.split())))\n",
        "input_data_reshaped = input_data.reshape(1, 17)\n",
        "\n",
        "# Make predictions using the trained model\n",
        "predictions = logreg2.predict(input_data_reshaped)\n",
        "\n",
        "print(predictions)"
      ],
      "metadata": {
        "colab": {
          "base_uri": "https://localhost:8080/"
        },
        "id": "LYBpw3bAJ-zs",
        "outputId": "087db79d-a9d0-4f7b-c2b5-85bf8331f65f"
      },
      "execution_count": null,
      "outputs": [
        {
          "output_type": "stream",
          "name": "stdout",
          "text": [
            "17\n",
            "[0]\n"
          ]
        },
        {
          "output_type": "stream",
          "name": "stderr",
          "text": [
            "/usr/local/lib/python3.9/dist-packages/sklearn/base.py:439: UserWarning: X does not have valid feature names, but LogisticRegression was fitted with feature names\n",
            "  warnings.warn(\n"
          ]
        }
      ]
    },
    {
      "cell_type": "code",
      "source": [
        "#saving the model\n",
        "import joblib\n",
        "joblib.dump(logreg2, 'dia_log_l1.pkl')"
      ],
      "metadata": {
        "colab": {
          "base_uri": "https://localhost:8080/"
        },
        "id": "QFTjDyzuyEYY",
        "outputId": "64fd45aa-bf73-4ef4-9bc3-8db13d549819"
      },
      "execution_count": null,
      "outputs": [
        {
          "output_type": "execute_result",
          "data": {
            "text/plain": [
              "['dia_log_l1.pkl']"
            ]
          },
          "metadata": {},
          "execution_count": 46
        }
      ]
    },
    {
      "cell_type": "markdown",
      "source": [
        "**KNN**"
      ],
      "metadata": {
        "id": "Dvo0xhp8vE0d"
      }
    },
    {
      "cell_type": "code",
      "source": [
        "from sklearn.model_selection import GridSearchCV\n",
        "from sklearn.neighbors import KNeighborsClassifier\n",
        "from sklearn.metrics import accuracy_score, precision_score, recall_score,confusion_matrix\n",
        "import numpy as np\n",
        "\n",
        "param_grid = {'n_neighbors' : np.arange(1,316)}\n",
        "grid = GridSearchCV(KNeighborsClassifier(),param_grid,cv = 3,scoring = 'accuracy')\n",
        "grid.fit(X_train,y_train)\n",
        "print('Best parameter: ', grid.best_params_)\n",
        "print('Best score: ', grid.best_score_)\n"
      ],
      "metadata": {
        "colab": {
          "base_uri": "https://localhost:8080/"
        },
        "id": "U0wROCscPlSo",
        "outputId": "8167121a-ed30-4d95-aa36-fd4f28a7f899"
      },
      "execution_count": null,
      "outputs": [
        {
          "output_type": "stream",
          "name": "stdout",
          "text": [
            "Best parameter:  {'n_neighbors': 46}\n",
            "Best score:  0.8613625013629429\n"
          ]
        }
      ]
    },
    {
      "cell_type": "code",
      "source": [
        "from sklearn.neighbors import KNeighborsClassifier\n",
        "knn1 = KNeighborsClassifier(n_neighbors=46)\n",
        "knn1.fit(X_train,y_train)\n",
        "predictions = knn1.predict(X_test)"
      ],
      "metadata": {
        "id": "_U_rzRaBRFI5"
      },
      "execution_count": null,
      "outputs": []
    },
    {
      "cell_type": "code",
      "source": [
        "evaluate_model(y_test,predictions)"
      ],
      "metadata": {
        "colab": {
          "base_uri": "https://localhost:8080/",
          "height": 551
        },
        "id": "hJDgnFI0jH_Q",
        "outputId": "91e387c5-f89e-4f85-a998-2511ae98f4f3"
      },
      "execution_count": null,
      "outputs": [
        {
          "output_type": "stream",
          "name": "stdout",
          "text": [
            "Accuracy: 0.86265\n",
            "Precision: 0.5311203319502075\n",
            "Recall: 0.04634322954380883\n",
            "F1 Score: 0.08524808524808523\n",
            "AUC-ROC: 0.5198939723539905\n",
            "Mean Absolute Error: 0.13735\n",
            "Root Mean Squared Error: 0.37060760920412844\n"
          ]
        },
        {
          "output_type": "display_data",
          "data": {
            "text/plain": [
              "<Figure size 640x480 with 2 Axes>"
            ],
            "image/png": "[encoded data removed]"
          },
          "metadata": {}
        }
      ]
    },
    {
      "cell_type": "code",
      "source": [
        "y_pred=knn1.predict(X_test)\n",
        "print(\"Predicted values:\",y_pred)"
      ],
      "metadata": {
        "colab": {
          "base_uri": "https://localhost:8080/"
        },
        "id": "2PrTQ7MykAJx",
        "outputId": "e420ec3f-144e-4de4-b9ac-8baefd981f78"
      },
      "execution_count": null,
      "outputs": [
        {
          "output_type": "stream",
          "name": "stdout",
          "text": [
            "Predicted values: [0 0 0 ... 0 0 0]\n"
          ]
        }
      ]
    },
    {
      "cell_type": "code",
      "source": [
        "import numpy as np\n",
        "\n",
        "# Assuming your training data has shape (n_samples, n_features)\n",
        "n_features = 17  # replace with the number of features in your data\n",
        "string = '''1\t1\t1\t25\t1\t0\t0\t1\t0\t1\t0\t3\t0\t1\t11\t5\t5'''\n",
        "print(len(list(map(int, string.split()))))\n",
        "input_data = np.array(list(map(int, string.split())))\n",
        "input_data_reshaped = input_data.reshape(1, 17)\n",
        "\n",
        "# Make predictions using the trained model\n",
        "predictions = knn1.predict(input_data_reshaped)\n",
        "\n",
        "print(predictions)"
      ],
      "metadata": {
        "colab": {
          "base_uri": "https://localhost:8080/"
        },
        "id": "KTp-cSv6kI3z",
        "outputId": "6fc1aaeb-49e1-44e4-e181-74bf15872361"
      },
      "execution_count": null,
      "outputs": [
        {
          "output_type": "stream",
          "name": "stdout",
          "text": [
            "17\n",
            "[0]\n"
          ]
        },
        {
          "output_type": "stream",
          "name": "stderr",
          "text": [
            "/usr/local/lib/python3.9/dist-packages/sklearn/base.py:439: UserWarning: X does not have valid feature names, but KNeighborsClassifier was fitted with feature names\n",
            "  warnings.warn(\n"
          ]
        }
      ]
    },
    {
      "cell_type": "code",
      "source": [
        "#saving the model\n",
        "import joblib\n",
        "joblib.dump(knn1, 'dia_knn.pkl')"
      ],
      "metadata": {
        "colab": {
          "base_uri": "https://localhost:8080/"
        },
        "id": "RSpEP2zByIY3",
        "outputId": "4b086196-655b-42b8-ab9d-c4ca583f1b8a"
      },
      "execution_count": null,
      "outputs": [
        {
          "output_type": "execute_result",
          "data": {
            "text/plain": [
              "['dia_knn.pkl']"
            ]
          },
          "metadata": {},
          "execution_count": 55
        }
      ]
    },
    {
      "cell_type": "code",
      "source": [
        "import joblib\n",
        "joblib.load('/content/drive/MyDrive/dia_knn.pkl')"
      ],
      "metadata": {
        "id": "s7INV5DpyLd2",
        "colab": {
          "base_uri": "https://localhost:8080/",
          "height": 74
        },
        "outputId": "5cc3b6d7-c579-4506-cc62-844402acfc6c"
      },
      "execution_count": null,
      "outputs": [
        {
          "output_type": "execute_result",
          "data": {
            "text/plain": [
              "KNeighborsClassifier(n_neighbors=46)"
            ],
            "text/html": [
              "<style>#sk-container-id-3 {color: black;background-color: white;}#sk-container-id-3 pre{padding: 0;}#sk-container-id-3 div.sk-toggleable {background-color: white;}#sk-container-id-3 label.sk-toggleable__label {cursor: pointer;display: block;width: 100%;margin-bottom: 0;padding: 0.3em;box-sizing: border-box;text-align: center;}#sk-container-id-3 label.sk-toggleable__label-arrow:before {content: \"▸\";float: left;margin-right: 0.25em;color: #696969;}#sk-container-id-3 label.sk-toggleable__label-arrow:hover:before {color: black;}#sk-container-id-3 div.sk-estimator:hover label.sk-toggleable__label-arrow:before {color: black;}#sk-container-id-3 div.sk-toggleable__content {max-height: 0;max-width: 0;overflow: hidden;text-align: left;background-color: #f0f8ff;}#sk-container-id-3 div.sk-toggleable__content pre {margin: 0.2em;color: black;border-radius: 0.25em;background-color: #f0f8ff;}#sk-container-id-3 input.sk-toggleable__control:checked~div.sk-toggleable__content {max-height: 200px;max-width: 100%;overflow: auto;}#sk-container-id-3 input.sk-toggleable__control:checked~label.sk-toggleable__label-arrow:before {content: \"▾\";}#sk-container-id-3 div.sk-estimator input.sk-toggleable__control:checked~label.sk-toggleable__label {background-color: #d4ebff;}#sk-container-id-3 div.sk-label input.sk-toggleable__control:checked~label.sk-toggleable__label {background-color: #d4ebff;}#sk-container-id-3 input.sk-hidden--visually {border: 0;clip: rect(1px 1px 1px 1px);clip: rect(1px, 1px, 1px, 1px);height: 1px;margin: -1px;overflow: hidden;padding: 0;position: absolute;width: 1px;}#sk-container-id-3 div.sk-estimator {font-family: monospace;background-color: #f0f8ff;border: 1px dotted black;border-radius: 0.25em;box-sizing: border-box;margin-bottom: 0.5em;}#sk-container-id-3 div.sk-estimator:hover {background-color: #d4ebff;}#sk-container-id-3 div.sk-parallel-item::after {content: \"\";width: 100%;border-bottom: 1px solid gray;flex-grow: 1;}#sk-container-id-3 div.sk-label:hover label.sk-toggleable__label {background-color: #d4ebff;}#sk-container-id-3 div.sk-serial::before {content: \"\";position: absolute;border-left: 1px solid gray;box-sizing: border-box;top: 0;bottom: 0;left: 50%;z-index: 0;}#sk-container-id-3 div.sk-serial {display: flex;flex-direction: column;align-items: center;background-color: white;padding-right: 0.2em;padding-left: 0.2em;position: relative;}#sk-container-id-3 div.sk-item {position: relative;z-index: 1;}#sk-container-id-3 div.sk-parallel {display: flex;align-items: stretch;justify-content: center;background-color: white;position: relative;}#sk-container-id-3 div.sk-item::before, #sk-container-id-3 div.sk-parallel-item::before {content: \"\";position: absolute;border-left: 1px solid gray;box-sizing: border-box;top: 0;bottom: 0;left: 50%;z-index: -1;}#sk-container-id-3 div.sk-parallel-item {display: flex;flex-direction: column;z-index: 1;position: relative;background-color: white;}#sk-container-id-3 div.sk-parallel-item:first-child::after {align-self: flex-end;width: 50%;}#sk-container-id-3 div.sk-parallel-item:last-child::after {align-self: flex-start;width: 50%;}#sk-container-id-3 div.sk-parallel-item:only-child::after {width: 0;}#sk-container-id-3 div.sk-dashed-wrapped {border: 1px dashed gray;margin: 0 0.4em 0.5em 0.4em;box-sizing: border-box;padding-bottom: 0.4em;background-color: white;}#sk-container-id-3 div.sk-label label {font-family: monospace;font-weight: bold;display: inline-block;line-height: 1.2em;}#sk-container-id-3 div.sk-label-container {text-align: center;}#sk-container-id-3 div.sk-container {/* jupyter's `normalize.less` sets `[hidden] { display: none; }` but bootstrap.min.css set `[hidden] { display: none !important; }` so we also need the `!important` here to be able to override the default hidden behavior on the sphinx rendered scikit-learn.org. See: https://github.com/scikit-learn/scikit-learn/issues/21755 */display: inline-block !important;position: relative;}#sk-container-id-3 div.sk-text-repr-fallback {display: none;}</style><div id=\"sk-container-id-3\" class=\"sk-top-container\"><div class=\"sk-text-repr-fallback\"><pre>KNeighborsClassifier(n_neighbors=46)</pre><b>In a Jupyter environment, please rerun this cell to show the HTML representation or trust the notebook. <br />On GitHub, the HTML representation is unable to render, please try loading this page with nbviewer.org.</b></div><div class=\"sk-container\" hidden><div class=\"sk-item\"><div class=\"sk-estimator sk-toggleable\"><input class=\"sk-toggleable__control sk-hidden--visually\" id=\"sk-estimator-id-3\" type=\"checkbox\" checked><label for=\"sk-estimator-id-3\" class=\"sk-toggleable__label sk-toggleable__label-arrow\">KNeighborsClassifier</label><div class=\"sk-toggleable__content\"><pre>KNeighborsClassifier(n_neighbors=46)</pre></div></div></div></div></div>"
            ]
          },
          "metadata": {},
          "execution_count": 56
        }
      ]
    }
  ],
  "metadata": {
    "colab": {
      "provenance": [],
      "gpuType": "T4"
    },
    "kernelspec": {
      "display_name": "Python 3",
      "name": "python3"
    },
    "language_info": {
      "name": "python"
    },
    "accelerator": "GPU"
  },
  "nbformat": 4,
  "nbformat_minor": 0
}